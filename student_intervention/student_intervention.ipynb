{
 "cells": [
  {
   "cell_type": "markdown",
   "metadata": {},
   "source": [
    "# Machine Learning Engineer Nanodegree\n",
    "## Supervised Learning\n",
    "## Project: Building a Student Intervention System"
   ]
  },
  {
   "cell_type": "markdown",
   "metadata": {},
   "source": [
    "Welcome to the second project of the Machine Learning Engineer Nanodegree! In this notebook, some template code has already been provided for you, and it will be your job to implement the additional functionality necessary to successfully complete this project. Sections that begin with **'Implementation'** in the header indicate that the following block of code will require additional functionality which you must provide. Instructions will be provided for each section and the specifics of the implementation are marked in the code block with a `'TODO'` statement. Please be sure to read the instructions carefully!\n",
    "\n",
    "In addition to implementing code, there will be questions that you must answer which relate to the project and your implementation. Each section where you will answer a question is preceded by a **'Question X'** header. Carefully read each question and provide thorough answers in the following text boxes that begin with **'Answer:'**. Your project submission will be evaluated based on your answers to each of the questions and the implementation you provide.  \n",
    "\n",
    ">**Note:** Code and Markdown cells can be executed using the **Shift + Enter** keyboard shortcut. In addition, Markdown cells can be edited by typically double-clicking the cell to enter edit mode."
   ]
  },
  {
   "cell_type": "markdown",
   "metadata": {},
   "source": [
    "### Question 1 - Classification vs. Regression\n",
    "*Your goal for this project is to identify students who might need early intervention before they fail to graduate. Which type of supervised learning problem is this, classification or regression? Why?*"
   ]
  },
  {
   "cell_type": "markdown",
   "metadata": {},
   "source": [
    "Answer: Regression is used when the data is continuous we need an output which is numeric/real number and not categorical. Classification is used when we group classes based on the categorical nature of the input. We are basically classifying the data into groups. Here we are classifying the students into two groups of \"ones who need intervention\" and \"ones who don't\". So it is a classification problem."
   ]
  },
  {
   "cell_type": "markdown",
   "metadata": {},
   "source": [
    "## Exploring the Data\n",
    "Run the code cell below to load necessary Python libraries and load the student data. Note that the last column from this dataset, `'passed'`, will be our target label (whether the student graduated or didn't graduate). All other columns are features about each student."
   ]
  },
  {
   "cell_type": "code",
   "execution_count": 2,
   "metadata": {
    "collapsed": false
   },
   "outputs": [
    {
     "name": "stdout",
     "output_type": "stream",
     "text": [
      "Student data read successfully!\n"
     ]
    }
   ],
   "source": [
    "# Import libraries\n",
    "import numpy as np\n",
    "import pandas as pd\n",
    "from time import time\n",
    "from sklearn.metrics import f1_score\n",
    "\n",
    "# Read student data\n",
    "student_data = pd.read_csv(\"student-data.csv\")\n",
    "print \"Student data read successfully!\""
   ]
  },
  {
   "cell_type": "code",
   "execution_count": 3,
   "metadata": {
    "collapsed": false,
    "scrolled": true
   },
   "outputs": [
    {
     "data": {
      "text/html": [
       "<div>\n",
       "<table border=\"1\" class=\"dataframe\">\n",
       "  <thead>\n",
       "    <tr style=\"text-align: right;\">\n",
       "      <th></th>\n",
       "      <th>school</th>\n",
       "      <th>sex</th>\n",
       "      <th>age</th>\n",
       "      <th>address</th>\n",
       "      <th>famsize</th>\n",
       "      <th>Pstatus</th>\n",
       "      <th>Medu</th>\n",
       "      <th>Fedu</th>\n",
       "      <th>Mjob</th>\n",
       "      <th>Fjob</th>\n",
       "      <th>...</th>\n",
       "      <th>internet</th>\n",
       "      <th>romantic</th>\n",
       "      <th>famrel</th>\n",
       "      <th>freetime</th>\n",
       "      <th>goout</th>\n",
       "      <th>Dalc</th>\n",
       "      <th>Walc</th>\n",
       "      <th>health</th>\n",
       "      <th>absences</th>\n",
       "      <th>passed</th>\n",
       "    </tr>\n",
       "  </thead>\n",
       "  <tbody>\n",
       "    <tr>\n",
       "      <th>0</th>\n",
       "      <td>GP</td>\n",
       "      <td>F</td>\n",
       "      <td>18</td>\n",
       "      <td>U</td>\n",
       "      <td>GT3</td>\n",
       "      <td>A</td>\n",
       "      <td>4</td>\n",
       "      <td>4</td>\n",
       "      <td>at_home</td>\n",
       "      <td>teacher</td>\n",
       "      <td>...</td>\n",
       "      <td>no</td>\n",
       "      <td>no</td>\n",
       "      <td>4</td>\n",
       "      <td>3</td>\n",
       "      <td>4</td>\n",
       "      <td>1</td>\n",
       "      <td>1</td>\n",
       "      <td>3</td>\n",
       "      <td>6</td>\n",
       "      <td>no</td>\n",
       "    </tr>\n",
       "    <tr>\n",
       "      <th>1</th>\n",
       "      <td>GP</td>\n",
       "      <td>F</td>\n",
       "      <td>17</td>\n",
       "      <td>U</td>\n",
       "      <td>GT3</td>\n",
       "      <td>T</td>\n",
       "      <td>1</td>\n",
       "      <td>1</td>\n",
       "      <td>at_home</td>\n",
       "      <td>other</td>\n",
       "      <td>...</td>\n",
       "      <td>yes</td>\n",
       "      <td>no</td>\n",
       "      <td>5</td>\n",
       "      <td>3</td>\n",
       "      <td>3</td>\n",
       "      <td>1</td>\n",
       "      <td>1</td>\n",
       "      <td>3</td>\n",
       "      <td>4</td>\n",
       "      <td>no</td>\n",
       "    </tr>\n",
       "    <tr>\n",
       "      <th>2</th>\n",
       "      <td>GP</td>\n",
       "      <td>F</td>\n",
       "      <td>15</td>\n",
       "      <td>U</td>\n",
       "      <td>LE3</td>\n",
       "      <td>T</td>\n",
       "      <td>1</td>\n",
       "      <td>1</td>\n",
       "      <td>at_home</td>\n",
       "      <td>other</td>\n",
       "      <td>...</td>\n",
       "      <td>yes</td>\n",
       "      <td>no</td>\n",
       "      <td>4</td>\n",
       "      <td>3</td>\n",
       "      <td>2</td>\n",
       "      <td>2</td>\n",
       "      <td>3</td>\n",
       "      <td>3</td>\n",
       "      <td>10</td>\n",
       "      <td>yes</td>\n",
       "    </tr>\n",
       "    <tr>\n",
       "      <th>3</th>\n",
       "      <td>GP</td>\n",
       "      <td>F</td>\n",
       "      <td>15</td>\n",
       "      <td>U</td>\n",
       "      <td>GT3</td>\n",
       "      <td>T</td>\n",
       "      <td>4</td>\n",
       "      <td>2</td>\n",
       "      <td>health</td>\n",
       "      <td>services</td>\n",
       "      <td>...</td>\n",
       "      <td>yes</td>\n",
       "      <td>yes</td>\n",
       "      <td>3</td>\n",
       "      <td>2</td>\n",
       "      <td>2</td>\n",
       "      <td>1</td>\n",
       "      <td>1</td>\n",
       "      <td>5</td>\n",
       "      <td>2</td>\n",
       "      <td>yes</td>\n",
       "    </tr>\n",
       "    <tr>\n",
       "      <th>4</th>\n",
       "      <td>GP</td>\n",
       "      <td>F</td>\n",
       "      <td>16</td>\n",
       "      <td>U</td>\n",
       "      <td>GT3</td>\n",
       "      <td>T</td>\n",
       "      <td>3</td>\n",
       "      <td>3</td>\n",
       "      <td>other</td>\n",
       "      <td>other</td>\n",
       "      <td>...</td>\n",
       "      <td>no</td>\n",
       "      <td>no</td>\n",
       "      <td>4</td>\n",
       "      <td>3</td>\n",
       "      <td>2</td>\n",
       "      <td>1</td>\n",
       "      <td>2</td>\n",
       "      <td>5</td>\n",
       "      <td>4</td>\n",
       "      <td>yes</td>\n",
       "    </tr>\n",
       "    <tr>\n",
       "      <th>5</th>\n",
       "      <td>GP</td>\n",
       "      <td>M</td>\n",
       "      <td>16</td>\n",
       "      <td>U</td>\n",
       "      <td>LE3</td>\n",
       "      <td>T</td>\n",
       "      <td>4</td>\n",
       "      <td>3</td>\n",
       "      <td>services</td>\n",
       "      <td>other</td>\n",
       "      <td>...</td>\n",
       "      <td>yes</td>\n",
       "      <td>no</td>\n",
       "      <td>5</td>\n",
       "      <td>4</td>\n",
       "      <td>2</td>\n",
       "      <td>1</td>\n",
       "      <td>2</td>\n",
       "      <td>5</td>\n",
       "      <td>10</td>\n",
       "      <td>yes</td>\n",
       "    </tr>\n",
       "  </tbody>\n",
       "</table>\n",
       "<p>6 rows × 31 columns</p>\n",
       "</div>"
      ],
      "text/plain": [
       "  school sex  age address famsize Pstatus  Medu  Fedu      Mjob      Fjob  \\\n",
       "0     GP   F   18       U     GT3       A     4     4   at_home   teacher   \n",
       "1     GP   F   17       U     GT3       T     1     1   at_home     other   \n",
       "2     GP   F   15       U     LE3       T     1     1   at_home     other   \n",
       "3     GP   F   15       U     GT3       T     4     2    health  services   \n",
       "4     GP   F   16       U     GT3       T     3     3     other     other   \n",
       "5     GP   M   16       U     LE3       T     4     3  services     other   \n",
       "\n",
       "   ...   internet romantic  famrel  freetime  goout Dalc Walc health absences  \\\n",
       "0  ...         no       no       4         3      4    1    1      3        6   \n",
       "1  ...        yes       no       5         3      3    1    1      3        4   \n",
       "2  ...        yes       no       4         3      2    2    3      3       10   \n",
       "3  ...        yes      yes       3         2      2    1    1      5        2   \n",
       "4  ...         no       no       4         3      2    1    2      5        4   \n",
       "5  ...        yes       no       5         4      2    1    2      5       10   \n",
       "\n",
       "  passed  \n",
       "0     no  \n",
       "1     no  \n",
       "2    yes  \n",
       "3    yes  \n",
       "4    yes  \n",
       "5    yes  \n",
       "\n",
       "[6 rows x 31 columns]"
      ]
     },
     "execution_count": 3,
     "metadata": {},
     "output_type": "execute_result"
    }
   ],
   "source": [
    "student_data.head(6)"
   ]
  },
  {
   "cell_type": "code",
   "execution_count": 3,
   "metadata": {
    "collapsed": false
   },
   "outputs": [
    {
     "data": {
      "text/plain": [
       "395"
      ]
     },
     "execution_count": 3,
     "metadata": {},
     "output_type": "execute_result"
    }
   ],
   "source": [
    "len(student_data.index)"
   ]
  },
  {
   "cell_type": "code",
   "execution_count": 4,
   "metadata": {
    "collapsed": false
   },
   "outputs": [
    {
     "data": {
      "text/plain": [
       "31"
      ]
     },
     "execution_count": 4,
     "metadata": {},
     "output_type": "execute_result"
    }
   ],
   "source": [
    "student_data.shape[1]"
   ]
  },
  {
   "cell_type": "code",
   "execution_count": 4,
   "metadata": {
    "collapsed": false
   },
   "outputs": [],
   "source": [
    "student_data_yes=student_data[student_data[\"passed\"]==\"yes\"]"
   ]
  },
  {
   "cell_type": "code",
   "execution_count": 5,
   "metadata": {
    "collapsed": false
   },
   "outputs": [
    {
     "data": {
      "text/html": [
       "<div>\n",
       "<table border=\"1\" class=\"dataframe\">\n",
       "  <thead>\n",
       "    <tr style=\"text-align: right;\">\n",
       "      <th></th>\n",
       "      <th>school</th>\n",
       "      <th>sex</th>\n",
       "      <th>age</th>\n",
       "      <th>address</th>\n",
       "      <th>famsize</th>\n",
       "      <th>Pstatus</th>\n",
       "      <th>Medu</th>\n",
       "      <th>Fedu</th>\n",
       "      <th>Mjob</th>\n",
       "      <th>Fjob</th>\n",
       "      <th>...</th>\n",
       "      <th>internet</th>\n",
       "      <th>romantic</th>\n",
       "      <th>famrel</th>\n",
       "      <th>freetime</th>\n",
       "      <th>goout</th>\n",
       "      <th>Dalc</th>\n",
       "      <th>Walc</th>\n",
       "      <th>health</th>\n",
       "      <th>absences</th>\n",
       "      <th>passed</th>\n",
       "    </tr>\n",
       "  </thead>\n",
       "  <tbody>\n",
       "    <tr>\n",
       "      <th>2</th>\n",
       "      <td>GP</td>\n",
       "      <td>F</td>\n",
       "      <td>15</td>\n",
       "      <td>U</td>\n",
       "      <td>LE3</td>\n",
       "      <td>T</td>\n",
       "      <td>1</td>\n",
       "      <td>1</td>\n",
       "      <td>at_home</td>\n",
       "      <td>other</td>\n",
       "      <td>...</td>\n",
       "      <td>yes</td>\n",
       "      <td>no</td>\n",
       "      <td>4</td>\n",
       "      <td>3</td>\n",
       "      <td>2</td>\n",
       "      <td>2</td>\n",
       "      <td>3</td>\n",
       "      <td>3</td>\n",
       "      <td>10</td>\n",
       "      <td>yes</td>\n",
       "    </tr>\n",
       "    <tr>\n",
       "      <th>3</th>\n",
       "      <td>GP</td>\n",
       "      <td>F</td>\n",
       "      <td>15</td>\n",
       "      <td>U</td>\n",
       "      <td>GT3</td>\n",
       "      <td>T</td>\n",
       "      <td>4</td>\n",
       "      <td>2</td>\n",
       "      <td>health</td>\n",
       "      <td>services</td>\n",
       "      <td>...</td>\n",
       "      <td>yes</td>\n",
       "      <td>yes</td>\n",
       "      <td>3</td>\n",
       "      <td>2</td>\n",
       "      <td>2</td>\n",
       "      <td>1</td>\n",
       "      <td>1</td>\n",
       "      <td>5</td>\n",
       "      <td>2</td>\n",
       "      <td>yes</td>\n",
       "    </tr>\n",
       "    <tr>\n",
       "      <th>4</th>\n",
       "      <td>GP</td>\n",
       "      <td>F</td>\n",
       "      <td>16</td>\n",
       "      <td>U</td>\n",
       "      <td>GT3</td>\n",
       "      <td>T</td>\n",
       "      <td>3</td>\n",
       "      <td>3</td>\n",
       "      <td>other</td>\n",
       "      <td>other</td>\n",
       "      <td>...</td>\n",
       "      <td>no</td>\n",
       "      <td>no</td>\n",
       "      <td>4</td>\n",
       "      <td>3</td>\n",
       "      <td>2</td>\n",
       "      <td>1</td>\n",
       "      <td>2</td>\n",
       "      <td>5</td>\n",
       "      <td>4</td>\n",
       "      <td>yes</td>\n",
       "    </tr>\n",
       "    <tr>\n",
       "      <th>5</th>\n",
       "      <td>GP</td>\n",
       "      <td>M</td>\n",
       "      <td>16</td>\n",
       "      <td>U</td>\n",
       "      <td>LE3</td>\n",
       "      <td>T</td>\n",
       "      <td>4</td>\n",
       "      <td>3</td>\n",
       "      <td>services</td>\n",
       "      <td>other</td>\n",
       "      <td>...</td>\n",
       "      <td>yes</td>\n",
       "      <td>no</td>\n",
       "      <td>5</td>\n",
       "      <td>4</td>\n",
       "      <td>2</td>\n",
       "      <td>1</td>\n",
       "      <td>2</td>\n",
       "      <td>5</td>\n",
       "      <td>10</td>\n",
       "      <td>yes</td>\n",
       "    </tr>\n",
       "    <tr>\n",
       "      <th>6</th>\n",
       "      <td>GP</td>\n",
       "      <td>M</td>\n",
       "      <td>16</td>\n",
       "      <td>U</td>\n",
       "      <td>LE3</td>\n",
       "      <td>T</td>\n",
       "      <td>2</td>\n",
       "      <td>2</td>\n",
       "      <td>other</td>\n",
       "      <td>other</td>\n",
       "      <td>...</td>\n",
       "      <td>yes</td>\n",
       "      <td>no</td>\n",
       "      <td>4</td>\n",
       "      <td>4</td>\n",
       "      <td>4</td>\n",
       "      <td>1</td>\n",
       "      <td>1</td>\n",
       "      <td>3</td>\n",
       "      <td>0</td>\n",
       "      <td>yes</td>\n",
       "    </tr>\n",
       "  </tbody>\n",
       "</table>\n",
       "<p>5 rows × 31 columns</p>\n",
       "</div>"
      ],
      "text/plain": [
       "  school sex  age address famsize Pstatus  Medu  Fedu      Mjob      Fjob  \\\n",
       "2     GP   F   15       U     LE3       T     1     1   at_home     other   \n",
       "3     GP   F   15       U     GT3       T     4     2    health  services   \n",
       "4     GP   F   16       U     GT3       T     3     3     other     other   \n",
       "5     GP   M   16       U     LE3       T     4     3  services     other   \n",
       "6     GP   M   16       U     LE3       T     2     2     other     other   \n",
       "\n",
       "   ...   internet romantic  famrel  freetime  goout Dalc Walc health absences  \\\n",
       "2  ...        yes       no       4         3      2    2    3      3       10   \n",
       "3  ...        yes      yes       3         2      2    1    1      5        2   \n",
       "4  ...         no       no       4         3      2    1    2      5        4   \n",
       "5  ...        yes       no       5         4      2    1    2      5       10   \n",
       "6  ...        yes       no       4         4      4    1    1      3        0   \n",
       "\n",
       "  passed  \n",
       "2    yes  \n",
       "3    yes  \n",
       "4    yes  \n",
       "5    yes  \n",
       "6    yes  \n",
       "\n",
       "[5 rows x 31 columns]"
      ]
     },
     "execution_count": 5,
     "metadata": {},
     "output_type": "execute_result"
    }
   ],
   "source": [
    "student_data_yes.head()"
   ]
  },
  {
   "cell_type": "code",
   "execution_count": 7,
   "metadata": {
    "collapsed": false
   },
   "outputs": [
    {
     "data": {
      "text/plain": [
       "265"
      ]
     },
     "execution_count": 7,
     "metadata": {},
     "output_type": "execute_result"
    }
   ],
   "source": [
    "len(student_data_yes.index)"
   ]
  },
  {
   "cell_type": "code",
   "execution_count": 8,
   "metadata": {
    "collapsed": false
   },
   "outputs": [
    {
     "data": {
      "text/plain": [
       "265"
      ]
     },
     "execution_count": 8,
     "metadata": {},
     "output_type": "execute_result"
    }
   ],
   "source": [
    "len((student_data[student_data[\"passed\"]==\"yes\"]).index)"
   ]
  },
  {
   "cell_type": "code",
   "execution_count": 9,
   "metadata": {
    "collapsed": false
   },
   "outputs": [
    {
     "data": {
      "text/plain": [
       "130"
      ]
     },
     "execution_count": 9,
     "metadata": {},
     "output_type": "execute_result"
    }
   ],
   "source": [
    "len((student_data[student_data[\"passed\"]==\"no\"]).index)"
   ]
  },
  {
   "cell_type": "code",
   "execution_count": 6,
   "metadata": {
    "collapsed": false
   },
   "outputs": [
    {
     "data": {
      "text/plain": [
       "0.5"
      ]
     },
     "execution_count": 6,
     "metadata": {},
     "output_type": "execute_result"
    }
   ],
   "source": [
    "from __future__ import division\n",
    "\n",
    "1/2"
   ]
  },
  {
   "cell_type": "markdown",
   "metadata": {},
   "source": [
    "### Implementation: Data Exploration\n",
    "Let's begin by investigating the dataset to determine how many students we have information on, and learn about the graduation rate among these students. In the code cell below, you will need to compute the following:\n",
    "- The total number of students, `n_students`.\n",
    "- The total number of features for each student, `n_features`.\n",
    "- The number of those students who passed, `n_passed`.\n",
    "- The number of those students who failed, `n_failed`.\n",
    "- The graduation rate of the class, `grad_rate`, in percent (%).\n"
   ]
  },
  {
   "cell_type": "code",
   "execution_count": 7,
   "metadata": {
    "collapsed": false
   },
   "outputs": [
    {
     "name": "stdout",
     "output_type": "stream",
     "text": [
      "Total number of students: 395\n",
      "Number of features: 30\n",
      "Number of students who passed: 265\n",
      "Number of students who failed: 130\n",
      "Graduation rate of the class: 67.09%\n"
     ]
    }
   ],
   "source": [
    "# TODO: Calculate number of students\n",
    "n_students = len(student_data.index)\n",
    "\n",
    "# TODO: Calculate number of features\n",
    "n_features = student_data.shape[1]-1\n",
    "\n",
    "# TODO: Calculate passing students\n",
    "n_passed = len((student_data[student_data[\"passed\"]==\"yes\"]).index)\n",
    "\n",
    "# TODO: Calculate failing students\n",
    "n_failed = n_students-n_passed\n",
    "\n",
    "# TODO: Calculate graduation rate\n",
    "grad_rate = (n_passed/n_students)*100\n",
    "\n",
    "# Print the results\n",
    "print \"Total number of students: {}\".format(n_students)\n",
    "print \"Number of features: {}\".format(n_features)\n",
    "print \"Number of students who passed: {}\".format(n_passed)\n",
    "print \"Number of students who failed: {}\".format(n_failed)\n",
    "print \"Graduation rate of the class: {:.2f}%\".format(grad_rate)"
   ]
  },
  {
   "cell_type": "markdown",
   "metadata": {},
   "source": [
    "## Preparing the Data\n",
    "In this section, we will prepare the data for modeling, training and testing.\n",
    "\n",
    "### Identify feature and target columns\n",
    "It is often the case that the data you obtain contains non-numeric features. This can be a problem, as most machine learning algorithms expect numeric data to perform computations with.\n",
    "\n",
    "Run the code cell below to separate the student data into feature and target columns to see if any features are non-numeric."
   ]
  },
  {
   "cell_type": "code",
   "execution_count": 8,
   "metadata": {
    "collapsed": false
   },
   "outputs": [
    {
     "data": {
      "text/plain": [
       "Index([u'school', u'sex', u'age', u'address', u'famsize', u'Pstatus', u'Medu',\n",
       "       u'Fedu', u'Mjob', u'Fjob', u'reason', u'guardian', u'traveltime',\n",
       "       u'studytime', u'failures', u'schoolsup', u'famsup', u'paid',\n",
       "       u'activities', u'nursery', u'higher', u'internet', u'romantic',\n",
       "       u'famrel', u'freetime', u'goout', u'Dalc', u'Walc', u'health',\n",
       "       u'absences'],\n",
       "      dtype='object')"
      ]
     },
     "execution_count": 8,
     "metadata": {},
     "output_type": "execute_result"
    }
   ],
   "source": [
    "student_data.columns[:-1]"
   ]
  },
  {
   "cell_type": "code",
   "execution_count": 28,
   "metadata": {
    "collapsed": false,
    "scrolled": true
   },
   "outputs": [
    {
     "name": "stdout",
     "output_type": "stream",
     "text": [
      "Feature columns:\n",
      "['school', 'sex', 'age', 'address', 'famsize', 'Pstatus', 'Medu', 'Fedu', 'Mjob', 'Fjob', 'reason', 'guardian', 'traveltime', 'studytime', 'failures', 'schoolsup', 'famsup', 'paid', 'activities', 'nursery', 'higher', 'internet', 'romantic', 'famrel', 'freetime', 'goout', 'Dalc', 'Walc', 'health', 'absences']\n",
      "\n",
      "Target column: passed\n",
      "\n",
      "Feature values:\n",
      "  school sex  age address famsize Pstatus  Medu  Fedu     Mjob      Fjob  \\\n",
      "0     GP   F   18       U     GT3       A     4     4  at_home   teacher   \n",
      "1     GP   F   17       U     GT3       T     1     1  at_home     other   \n",
      "2     GP   F   15       U     LE3       T     1     1  at_home     other   \n",
      "3     GP   F   15       U     GT3       T     4     2   health  services   \n",
      "4     GP   F   16       U     GT3       T     3     3    other     other   \n",
      "\n",
      "    ...    higher internet  romantic  famrel  freetime goout Dalc Walc health  \\\n",
      "0   ...       yes       no        no       4         3     4    1    1      3   \n",
      "1   ...       yes      yes        no       5         3     3    1    1      3   \n",
      "2   ...       yes      yes        no       4         3     2    2    3      3   \n",
      "3   ...       yes      yes       yes       3         2     2    1    1      5   \n",
      "4   ...       yes       no        no       4         3     2    1    2      5   \n",
      "\n",
      "  absences  \n",
      "0        6  \n",
      "1        4  \n",
      "2       10  \n",
      "3        2  \n",
      "4        4  \n",
      "\n",
      "[5 rows x 30 columns]\n"
     ]
    }
   ],
   "source": [
    "# Extract feature columns\n",
    "feature_cols = list(student_data.columns[:-1])\n",
    "\n",
    "# Extract target column 'passed'\n",
    "target_col = student_data.columns[-1] \n",
    "\n",
    "# Show the list of columns\n",
    "print \"Feature columns:\\n{}\".format(feature_cols)\n",
    "print \"\\nTarget column: {}\".format(target_col)\n",
    "\n",
    "# Separate the data into feature data and target data (X_all and y_all, respectively)\n",
    "X_all = student_data[feature_cols]\n",
    "y_all = student_data[target_col]\n",
    "\n",
    "\n",
    "# Show the feature information by printing the first five rows\n",
    "print \"\\nFeature values:\"\n",
    "print X_all.head()"
   ]
  },
  {
   "cell_type": "code",
   "execution_count": 9,
   "metadata": {
    "collapsed": false
   },
   "outputs": [
    {
     "data": {
      "text/plain": [
       "0     no\n",
       "1     no\n",
       "2    yes\n",
       "3    yes\n",
       "4    yes\n",
       "Name: passed, dtype: object"
      ]
     },
     "execution_count": 9,
     "metadata": {},
     "output_type": "execute_result"
    }
   ],
   "source": [
    "student_data['passed'].head()"
   ]
  },
  {
   "cell_type": "code",
   "execution_count": 10,
   "metadata": {
    "collapsed": false
   },
   "outputs": [],
   "source": [
    "df_school = student_data[student_data[\"passed\"]=='yes']\n",
    "df_school_no = student_data[student_data['passed']=='no']"
   ]
  },
  {
   "cell_type": "code",
   "execution_count": 18,
   "metadata": {
    "collapsed": false
   },
   "outputs": [
    {
     "data": {
      "text/plain": [
       "<matplotlib.axes._subplots.AxesSubplot at 0x11903d7d0>"
      ]
     },
     "execution_count": 18,
     "metadata": {},
     "output_type": "execute_result"
    },
    {
     "data": {
      "image/png": "[encoded data removed]",
      "text/plain": [
       "<matplotlib.figure.Figure at 0x119024810>"
      ]
     },
     "metadata": {},
     "output_type": "display_data"
    }
   ],
   "source": [
    "%matplotlib inline\n",
    "import seaborn as sns\n",
    "from numpy import mean\n",
    "ax = sns.barplot(x=\"sex\", y=\"age\", data=df_school, estimator=mean)\n",
    "ax"
   ]
  },
  {
   "cell_type": "code",
   "execution_count": 19,
   "metadata": {
    "collapsed": false
   },
   "outputs": [
    {
     "data": {
      "image/png": "[encoded data removed]",
      "text/plain": [
       "<matplotlib.figure.Figure at 0x111b535d0>"
      ]
     },
     "metadata": {},
     "output_type": "display_data"
    }
   ],
   "source": [
    "ax_2 = sns.barplot(x='sex',y='age', data=df_school_no,estimator=mean)"
   ]
  },
  {
   "cell_type": "code",
   "execution_count": 47,
   "metadata": {
    "collapsed": false
   },
   "outputs": [],
   "source": [
    "df_school_unique = np.unique(student_data['school'])"
   ]
  },
  {
   "cell_type": "code",
   "execution_count": 21,
   "metadata": {
    "collapsed": true
   },
   "outputs": [],
   "source": [
    "data = student_data"
   ]
  },
  {
   "cell_type": "code",
   "execution_count": 153,
   "metadata": {
    "collapsed": false
   },
   "outputs": [],
   "source": [
    "data['passed']=data['passed'].replace('yes',1)\n",
    "data['passed']=data['passed'].replace('no',0)"
   ]
  },
  {
   "cell_type": "code",
   "execution_count": 98,
   "metadata": {
    "collapsed": true
   },
   "outputs": [],
   "source": [
    "df_1=data[data['passed']==1]\n",
    "df_2=data[data['passed']==0]"
   ]
  },
  {
   "cell_type": "code",
   "execution_count": 107,
   "metadata": {
    "collapsed": false
   },
   "outputs": [
    {
     "data": {
      "text/plain": [
       "27"
      ]
     },
     "execution_count": 107,
     "metadata": {},
     "output_type": "execute_result"
    }
   ],
   "source": [
    "df_4[df_4['passed']==1].shape[0]"
   ]
  },
  {
   "cell_type": "code",
   "execution_count": 23,
   "metadata": {
    "collapsed": false
   },
   "outputs": [
    {
     "data": {
      "image/png": "[encoded data removed]",
      "text/plain": [
       "<matplotlib.figure.Figure at 0x116228290>"
      ]
     },
     "metadata": {},
     "output_type": "display_data"
    }
   ],
   "source": [
    "gf_3=sns.factorplot(\"Mjob\", col='passed',hue='sex',data=data,kind='count')"
   ]
  },
  {
   "cell_type": "code",
   "execution_count": 24,
   "metadata": {
    "collapsed": false,
    "scrolled": true
   },
   "outputs": [
    {
     "data": {
      "image/png": "[encoded data removed]",
      "text/plain": [
       "<matplotlib.figure.Figure at 0x121e02990>"
      ]
     },
     "metadata": {},
     "output_type": "display_data"
    }
   ],
   "source": [
    "gf_3=sns.factorplot(\"Fjob\", col='passed',hue='sex',data=data,kind='count')"
   ]
  },
  {
   "cell_type": "code",
   "execution_count": 160,
   "metadata": {
    "collapsed": false
   },
   "outputs": [
    {
     "data": {
      "image/png": "[encoded data removed]",
      "text/plain": [
       "<matplotlib.figure.Figure at 0x1175830d0>"
      ]
     },
     "metadata": {},
     "output_type": "display_data"
    }
   ],
   "source": [
    "gf_4=sns.factorplot(\"age\", col='passed',hue='sex',data=data,kind='count')"
   ]
  },
  {
   "cell_type": "code",
   "execution_count": 154,
   "metadata": {
    "collapsed": false
   },
   "outputs": [
    {
     "data": {
      "image/png": "[encoded data removed]",
      "text/plain": [
       "<matplotlib.figure.Figure at 0x11802c050>"
      ]
     },
     "metadata": {},
     "output_type": "display_data"
    }
   ],
   "source": [
    "gf_5=sns.factorplot(\"school\", col='passed',hue='sex',data=student_data,kind='count')"
   ]
  },
  {
   "cell_type": "code",
   "execution_count": 49,
   "metadata": {
    "collapsed": true
   },
   "outputs": [],
   "source": [
    "df_school_gp = student_data[student_data['school']=='GP']"
   ]
  },
  {
   "cell_type": "code",
   "execution_count": 57,
   "metadata": {
    "collapsed": false
   },
   "outputs": [
    {
     "data": {
      "text/plain": [
       "0    0\n",
       "1    0\n",
       "2    3\n",
       "3    0\n",
       "4    0\n",
       "Name: failures, dtype: int64"
      ]
     },
     "execution_count": 57,
     "metadata": {},
     "output_type": "execute_result"
    }
   ],
   "source": [
    "student_data[\"failures\"].head()"
   ]
  },
  {
   "cell_type": "code",
   "execution_count": 25,
   "metadata": {
    "collapsed": false
   },
   "outputs": [
    {
     "data": {
      "image/png": "[encoded data removed]",
      "text/plain": [
       "<matplotlib.figure.Figure at 0x1161ea150>"
      ]
     },
     "metadata": {},
     "output_type": "display_data"
    }
   ],
   "source": [
    "%matplotlib inline\n",
    "import seaborn as sns\n",
    "g = sns.factorplot(\"failures\", col=\"sex\", hue=\"passed\",data=student_data, kind=\"count\")"
   ]
  },
  {
   "cell_type": "code",
   "execution_count": 61,
   "metadata": {
    "collapsed": false
   },
   "outputs": [
    {
     "data": {
      "image/png": "[encoded data removed]",
      "text/plain": [
       "<matplotlib.figure.Figure at 0x1131e3610>"
      ]
     },
     "metadata": {},
     "output_type": "display_data"
    }
   ],
   "source": [
    "g = sns.factorplot(\"passed\", col=\"sex\", hue=\"passed\",data=data, kind=\"count\")"
   ]
  },
  {
   "cell_type": "code",
   "execution_count": 26,
   "metadata": {
    "collapsed": false
   },
   "outputs": [
    {
     "data": {
      "image/png": "[encoded data removed]",
      "text/plain": [
       "<matplotlib.figure.Figure at 0x1224d4210>"
      ]
     },
     "metadata": {},
     "output_type": "display_data"
    }
   ],
   "source": [
    "g = sns.factorplot(\"passed\", col=\"school\", hue=\"passed\",data=student_data, kind=\"count\")"
   ]
  },
  {
   "cell_type": "markdown",
   "metadata": {},
   "source": [
    "### Preprocess Feature Columns\n",
    "\n",
    "As you can see, there are several non-numeric columns that need to be converted! Many of them are simply `yes`/`no`, e.g. `internet`. These can be reasonably converted into `1`/`0` (binary) values.\n",
    "\n",
    "Other columns, like `Mjob` and `Fjob`, have more than two values, and are known as _categorical variables_. The recommended way to handle such a column is to create as many columns as possible values (e.g. `Fjob_teacher`, `Fjob_other`, `Fjob_services`, etc.), and assign a `1` to one of them and `0` to all others.\n",
    "\n",
    "These generated columns are sometimes called _dummy variables_, and we will use the [`pandas.get_dummies()`](http://pandas.pydata.org/pandas-docs/stable/generated/pandas.get_dummies.html?highlight=get_dummies#pandas.get_dummies) function to perform this transformation. Run the code cell below to perform the preprocessing routine discussed in this section."
   ]
  },
  {
   "cell_type": "code",
   "execution_count": 29,
   "metadata": {
    "collapsed": false
   },
   "outputs": [
    {
     "name": "stdout",
     "output_type": "stream",
     "text": [
      "Processed feature columns (48 total features):\n",
      "['school_GP', 'school_MS', 'sex_F', 'sex_M', 'age', 'address_R', 'address_U', 'famsize_GT3', 'famsize_LE3', 'Pstatus_A', 'Pstatus_T', 'Medu', 'Fedu', 'Mjob_at_home', 'Mjob_health', 'Mjob_other', 'Mjob_services', 'Mjob_teacher', 'Fjob_at_home', 'Fjob_health', 'Fjob_other', 'Fjob_services', 'Fjob_teacher', 'reason_course', 'reason_home', 'reason_other', 'reason_reputation', 'guardian_father', 'guardian_mother', 'guardian_other', 'traveltime', 'studytime', 'failures', 'schoolsup', 'famsup', 'paid', 'activities', 'nursery', 'higher', 'internet', 'romantic', 'famrel', 'freetime', 'goout', 'Dalc', 'Walc', 'health', 'absences']\n"
     ]
    }
   ],
   "source": [
    "def preprocess_features(X):\n",
    "    ''' Preprocesses the student data and converts non-numeric binary variables into\n",
    "        binary (0/1) variables. Converts categorical variables into dummy variables. '''\n",
    "    \n",
    "    # Initialize new output DataFrame\n",
    "    output = pd.DataFrame(index = X.index)\n",
    "\n",
    "    # Investigate each feature column for the data\n",
    "    for col, col_data in X.iteritems():\n",
    "        \n",
    "        # If data type is non-numeric, replace all yes/no values with 1/0\n",
    "        if col_data.dtype == object:\n",
    "            col_data = col_data.replace(['yes', 'no'], [1, 0])\n",
    "\n",
    "        # If data type is categorical, convert to dummy variables\n",
    "        if col_data.dtype == object:\n",
    "            # Example: 'school' => 'school_GP' and 'school_MS'\n",
    "            col_data = pd.get_dummies(col_data, prefix = col)  \n",
    "        \n",
    "        # Collect the revised columns\n",
    "        output = output.join(col_data)\n",
    "    \n",
    "    return output\n",
    "\n",
    "X_all = preprocess_features(X_all)\n",
    "print \"Processed feature columns ({} total features):\\n{}\".format(len(X_all.columns), list(X_all.columns))"
   ]
  },
  {
   "cell_type": "markdown",
   "metadata": {},
   "source": [
    "### Implementation: Training and Testing Data Split\n",
    "So far, we have converted all _categorical_ features into numeric values. For the next step, we split the data (both features and corresponding labels) into training and test sets. In the following code cell below, you will need to implement the following:\n",
    "- Randomly shuffle and split the data (`X_all`, `y_all`) into training and testing subsets.\n",
    "  - Use 300 training points (approximately 75%) and 95 testing points (approximately 25%).\n",
    "  - Set a `random_state` for the function(s) you use, if provided.\n",
    "  - Store the results in `X_train`, `X_test`, `y_train`, and `y_test`."
   ]
  },
  {
   "cell_type": "code",
   "execution_count": 30,
   "metadata": {
    "collapsed": false
   },
   "outputs": [
    {
     "data": {
      "text/html": [
       "<div>\n",
       "<table border=\"1\" class=\"dataframe\">\n",
       "  <thead>\n",
       "    <tr style=\"text-align: right;\">\n",
       "      <th></th>\n",
       "      <th>school_GP</th>\n",
       "      <th>school_MS</th>\n",
       "      <th>sex_F</th>\n",
       "      <th>sex_M</th>\n",
       "      <th>age</th>\n",
       "      <th>address_R</th>\n",
       "      <th>address_U</th>\n",
       "      <th>famsize_GT3</th>\n",
       "      <th>famsize_LE3</th>\n",
       "      <th>Pstatus_A</th>\n",
       "      <th>...</th>\n",
       "      <th>higher</th>\n",
       "      <th>internet</th>\n",
       "      <th>romantic</th>\n",
       "      <th>famrel</th>\n",
       "      <th>freetime</th>\n",
       "      <th>goout</th>\n",
       "      <th>Dalc</th>\n",
       "      <th>Walc</th>\n",
       "      <th>health</th>\n",
       "      <th>absences</th>\n",
       "    </tr>\n",
       "  </thead>\n",
       "  <tbody>\n",
       "    <tr>\n",
       "      <th>0</th>\n",
       "      <td>1</td>\n",
       "      <td>0</td>\n",
       "      <td>1</td>\n",
       "      <td>0</td>\n",
       "      <td>18</td>\n",
       "      <td>0</td>\n",
       "      <td>1</td>\n",
       "      <td>1</td>\n",
       "      <td>0</td>\n",
       "      <td>1</td>\n",
       "      <td>...</td>\n",
       "      <td>1</td>\n",
       "      <td>0</td>\n",
       "      <td>0</td>\n",
       "      <td>4</td>\n",
       "      <td>3</td>\n",
       "      <td>4</td>\n",
       "      <td>1</td>\n",
       "      <td>1</td>\n",
       "      <td>3</td>\n",
       "      <td>6</td>\n",
       "    </tr>\n",
       "    <tr>\n",
       "      <th>1</th>\n",
       "      <td>1</td>\n",
       "      <td>0</td>\n",
       "      <td>1</td>\n",
       "      <td>0</td>\n",
       "      <td>17</td>\n",
       "      <td>0</td>\n",
       "      <td>1</td>\n",
       "      <td>1</td>\n",
       "      <td>0</td>\n",
       "      <td>0</td>\n",
       "      <td>...</td>\n",
       "      <td>1</td>\n",
       "      <td>1</td>\n",
       "      <td>0</td>\n",
       "      <td>5</td>\n",
       "      <td>3</td>\n",
       "      <td>3</td>\n",
       "      <td>1</td>\n",
       "      <td>1</td>\n",
       "      <td>3</td>\n",
       "      <td>4</td>\n",
       "    </tr>\n",
       "    <tr>\n",
       "      <th>2</th>\n",
       "      <td>1</td>\n",
       "      <td>0</td>\n",
       "      <td>1</td>\n",
       "      <td>0</td>\n",
       "      <td>15</td>\n",
       "      <td>0</td>\n",
       "      <td>1</td>\n",
       "      <td>0</td>\n",
       "      <td>1</td>\n",
       "      <td>0</td>\n",
       "      <td>...</td>\n",
       "      <td>1</td>\n",
       "      <td>1</td>\n",
       "      <td>0</td>\n",
       "      <td>4</td>\n",
       "      <td>3</td>\n",
       "      <td>2</td>\n",
       "      <td>2</td>\n",
       "      <td>3</td>\n",
       "      <td>3</td>\n",
       "      <td>10</td>\n",
       "    </tr>\n",
       "    <tr>\n",
       "      <th>3</th>\n",
       "      <td>1</td>\n",
       "      <td>0</td>\n",
       "      <td>1</td>\n",
       "      <td>0</td>\n",
       "      <td>15</td>\n",
       "      <td>0</td>\n",
       "      <td>1</td>\n",
       "      <td>1</td>\n",
       "      <td>0</td>\n",
       "      <td>0</td>\n",
       "      <td>...</td>\n",
       "      <td>1</td>\n",
       "      <td>1</td>\n",
       "      <td>1</td>\n",
       "      <td>3</td>\n",
       "      <td>2</td>\n",
       "      <td>2</td>\n",
       "      <td>1</td>\n",
       "      <td>1</td>\n",
       "      <td>5</td>\n",
       "      <td>2</td>\n",
       "    </tr>\n",
       "    <tr>\n",
       "      <th>4</th>\n",
       "      <td>1</td>\n",
       "      <td>0</td>\n",
       "      <td>1</td>\n",
       "      <td>0</td>\n",
       "      <td>16</td>\n",
       "      <td>0</td>\n",
       "      <td>1</td>\n",
       "      <td>1</td>\n",
       "      <td>0</td>\n",
       "      <td>0</td>\n",
       "      <td>...</td>\n",
       "      <td>1</td>\n",
       "      <td>0</td>\n",
       "      <td>0</td>\n",
       "      <td>4</td>\n",
       "      <td>3</td>\n",
       "      <td>2</td>\n",
       "      <td>1</td>\n",
       "      <td>2</td>\n",
       "      <td>5</td>\n",
       "      <td>4</td>\n",
       "    </tr>\n",
       "  </tbody>\n",
       "</table>\n",
       "<p>5 rows × 48 columns</p>\n",
       "</div>"
      ],
      "text/plain": [
       "   school_GP  school_MS  sex_F  sex_M  age  address_R  address_U  famsize_GT3  \\\n",
       "0          1          0      1      0   18          0          1            1   \n",
       "1          1          0      1      0   17          0          1            1   \n",
       "2          1          0      1      0   15          0          1            0   \n",
       "3          1          0      1      0   15          0          1            1   \n",
       "4          1          0      1      0   16          0          1            1   \n",
       "\n",
       "   famsize_LE3  Pstatus_A    ...     higher  internet  romantic  famrel  \\\n",
       "0            0          1    ...          1         0         0       4   \n",
       "1            0          0    ...          1         1         0       5   \n",
       "2            1          0    ...          1         1         0       4   \n",
       "3            0          0    ...          1         1         1       3   \n",
       "4            0          0    ...          1         0         0       4   \n",
       "\n",
       "   freetime  goout  Dalc  Walc  health  absences  \n",
       "0         3      4     1     1       3         6  \n",
       "1         3      3     1     1       3         4  \n",
       "2         3      2     2     3       3        10  \n",
       "3         2      2     1     1       5         2  \n",
       "4         3      2     1     2       5         4  \n",
       "\n",
       "[5 rows x 48 columns]"
      ]
     },
     "execution_count": 30,
     "metadata": {},
     "output_type": "execute_result"
    }
   ],
   "source": [
    "X_all[0:300].head()\n"
   ]
  },
  {
   "cell_type": "code",
   "execution_count": 16,
   "metadata": {
    "collapsed": false
   },
   "outputs": [
    {
     "data": {
      "text/plain": [
       "395"
      ]
     },
     "execution_count": 16,
     "metadata": {},
     "output_type": "execute_result"
    }
   ],
   "source": [
    "X_all.shape[0]"
   ]
  },
  {
   "cell_type": "code",
   "execution_count": 17,
   "metadata": {
    "collapsed": false
   },
   "outputs": [
    {
     "data": {
      "text/plain": [
       "395"
      ]
     },
     "execution_count": 17,
     "metadata": {},
     "output_type": "execute_result"
    }
   ],
   "source": [
    "len(y_all)"
   ]
  },
  {
   "cell_type": "code",
   "execution_count": 18,
   "metadata": {
    "collapsed": true
   },
   "outputs": [],
   "source": [
    "num_train=300\n",
    "indices = np.arange(num_train)"
   ]
  },
  {
   "cell_type": "code",
   "execution_count": 19,
   "metadata": {
    "collapsed": false
   },
   "outputs": [
    {
     "data": {
      "text/plain": [
       "array([  0,   1,   2,   3,   4,   5,   6,   7,   8,   9,  10,  11,  12,\n",
       "        13,  14,  15,  16,  17,  18,  19,  20,  21,  22,  23,  24,  25,\n",
       "        26,  27,  28,  29,  30,  31,  32,  33,  34,  35,  36,  37,  38,\n",
       "        39,  40,  41,  42,  43,  44,  45,  46,  47,  48,  49,  50,  51,\n",
       "        52,  53,  54,  55,  56,  57,  58,  59,  60,  61,  62,  63,  64,\n",
       "        65,  66,  67,  68,  69,  70,  71,  72,  73,  74,  75,  76,  77,\n",
       "        78,  79,  80,  81,  82,  83,  84,  85,  86,  87,  88,  89,  90,\n",
       "        91,  92,  93,  94,  95,  96,  97,  98,  99, 100, 101, 102, 103,\n",
       "       104, 105, 106, 107, 108, 109, 110, 111, 112, 113, 114, 115, 116,\n",
       "       117, 118, 119, 120, 121, 122, 123, 124, 125, 126, 127, 128, 129,\n",
       "       130, 131, 132, 133, 134, 135, 136, 137, 138, 139, 140, 141, 142,\n",
       "       143, 144, 145, 146, 147, 148, 149, 150, 151, 152, 153, 154, 155,\n",
       "       156, 157, 158, 159, 160, 161, 162, 163, 164, 165, 166, 167, 168,\n",
       "       169, 170, 171, 172, 173, 174, 175, 176, 177, 178, 179, 180, 181,\n",
       "       182, 183, 184, 185, 186, 187, 188, 189, 190, 191, 192, 193, 194,\n",
       "       195, 196, 197, 198, 199, 200, 201, 202, 203, 204, 205, 206, 207,\n",
       "       208, 209, 210, 211, 212, 213, 214, 215, 216, 217, 218, 219, 220,\n",
       "       221, 222, 223, 224, 225, 226, 227, 228, 229, 230, 231, 232, 233,\n",
       "       234, 235, 236, 237, 238, 239, 240, 241, 242, 243, 244, 245, 246,\n",
       "       247, 248, 249, 250, 251, 252, 253, 254, 255, 256, 257, 258, 259,\n",
       "       260, 261, 262, 263, 264, 265, 266, 267, 268, 269, 270, 271, 272,\n",
       "       273, 274, 275, 276, 277, 278, 279, 280, 281, 282, 283, 284, 285,\n",
       "       286, 287, 288, 289, 290, 291, 292, 293, 294, 295, 296, 297, 298, 299])"
      ]
     },
     "execution_count": 19,
     "metadata": {},
     "output_type": "execute_result"
    }
   ],
   "source": [
    "indices"
   ]
  },
  {
   "cell_type": "code",
   "execution_count": 39,
   "metadata": {
    "collapsed": false
   },
   "outputs": [
    {
     "name": "stdout",
     "output_type": "stream",
     "text": [
      "Training set has 300 samples.\n",
      "Testing set has 95 samples.\n"
     ]
    }
   ],
   "source": [
    "# TODO: Import any additional functionality you may need here\n",
    "from sklearn.cross_validation import train_test_split\n",
    "# TODO: Set the number of training points\n",
    "num_train = 300\n",
    "\n",
    "\n",
    "# Set the number of testing points\n",
    "num_test = X_all.shape[0] - num_train\n",
    "\n",
    "# TODO: Shuffle and split the dataset into the number of training and testing points above\n",
    "\n",
    "X_train, X_test, y_train, y_test = train_test_split(X_all, y_all, test_size=num_test, stratify=y_all, random_state=130)\n",
    "\n",
    "# Show the results of the split\n",
    "print \"Training set has {} samples.\".format(X_train.shape[0])\n",
    "print \"Testing set has {} samples.\".format(X_test.shape[0])"
   ]
  },
  {
   "cell_type": "markdown",
   "metadata": {},
   "source": [
    "## Training and Evaluating Models\n",
    "In this section, you will choose 3 supervised learning models that are appropriate for this problem and available in `scikit-learn`. You will first discuss the reasoning behind choosing these three models by considering what you know about the data and each model's strengths and weaknesses. You will then fit the model to varying sizes of training data (100 data points, 200 data points, and 300 data points) and measure the F<sub>1</sub> score. You will need to produce three tables (one for each model) that shows the training set size, training time, prediction time, F<sub>1</sub> score on the training set, and F<sub>1</sub> score on the testing set.\n",
    "\n",
    "**The following supervised learning models are currently available in** [`scikit-learn`](http://scikit-learn.org/stable/supervised_learning.html) **that you may choose from:**\n",
    "- Gaussian Naive Bayes (GaussianNB)\n",
    "- Decision Trees\n",
    "- Ensemble Methods (Bagging, AdaBoost, Random Forest, Gradient Boosting)\n",
    "- K-Nearest Neighbors (KNeighbors)\n",
    "- Stochastic Gradient Descent (SGDC)\n",
    "- Support Vector Machines (SVM)\n",
    "- Logistic Regression"
   ]
  },
  {
   "cell_type": "markdown",
   "metadata": {},
   "source": [
    "### Question 2 - Model Application\n",
    "*List three supervised learning models that are appropriate for this problem. For each model chosen*\n",
    "- Describe one real-world application in industry where the model can be applied. *(You may need to do a small bit of research for this — give references!)* \n",
    "- What are the strengths of the model; when does it perform well? \n",
    "- What are the weaknesses of the model; when does it perform poorly?\n",
    "- What makes this model a good candidate for the problem, given what you know about the data?"
   ]
  },
  {
   "cell_type": "markdown",
   "metadata": {},
   "source": [
    "**Answer:**  Three good choices for this problem could be \n",
    "\n",
    "1) Decision tree 2) Logistic regression and 3) SVM.\n",
    "\n",
    "**Example of Decision Tree:** Decision tree classifier can be used in banks to classify safe and risky loans. Depending on several features (crdit score, income,terms of loan, how many other loans they have) of a person a decision tree classifier can predict whether approving a loan application is safe or risky.\n",
    "\n",
    "**Example of Logistic regression:** Logistic regression can be used to predict whether a student who has been granted admission to a school would actually enroll or not. The features could be Age, Sex, Residency in the state where the college is, SAT/GRE/GMAT scores, Economic background, How many people in the family went to school. [http://www.math.montana.edu/grad/writing-projects/09sulock.pdf]\n",
    "\n",
    "**Example of SVM:** \"The classical problem in computer vision, image processing, and machine vision is that of determining whether or not the image data contains some specific object, feature, or activity\"-wikipedia. Classification of images can be performed using SVM very efficiently.\n",
    "\n",
    "**Decision Tree:- Strengths**\n",
    "    \n",
    "    1) Easy to understand and explain.\n",
    "    2) Performs implicit feature selection\n",
    "    3) Performs very well on relatively large datasets and robust [wikipedia]\n",
    "    4) nonlinear correlation between features don't affect performance.\n",
    "**Decision Tree:-Weaknesses**\n",
    "    \n",
    "    1) Easily overfit\n",
    "    2) out of sample prediction could be problematic.\n",
    "    3) often a small change in the data can affect the tree in a significant way [The Elements of Statistical     Learning]\n",
    "    \n",
    "**Reason: ** Decision tree is easy to understand. And since the dataset is not that large and it is a binary classification there is a possiblity if we fix the max_depth that it might perform well.   \n",
    "\n",
    "**Logistic Regression:- Strengths**\n",
    "    \n",
    "    1) It is robust\n",
    "    2) It performs well with large datasets (most papers I browsed through say that logistic regression performs well on most of their datasets e.g \"An experimental comparison of classification algorithms for imbalanced credit scoring data sets.\" (Iain Brown , Christophe Mues)\n",
    "    3) Logistic regression is simple, and has low variance. It is also less prone to over-fitting.\n",
    "**Logistic Regression:-Weaknesses**\n",
    "    \n",
    "    1) logistic regression cannot predict continuous outcomes.\n",
    "    2) Independence of data points is required.\n",
    "    3) Due to sampling bias it could be probe to overfitting\n",
    "    \n",
    "**Reason:** I think for binary classification where data size is not big one should run logistic regression which some kind of L2 or L1 regularization. It performs very well on certain datasets. Even though it has its weaknesses it is well worth a try. In some of the literature I found, even though the datset was imbalanced, that sometime logistic regression's accuracy was close to fancier methods.    \n",
    "    \n",
    "**SVM:-Strengths** [http://www.cs.rutgers.edu/~mlittman/courses/ml04/svm.pdf]\n",
    "\n",
    "    1) Training is relatively easy \n",
    "    2) It scales relatively well to high dimensional data\n",
    "    3) Tradeoff between classifier complexity and error \n",
    "       can be controlled explicitly\n",
    "    4) Non-traditional data like strings and trees can be \n",
    "       used as input to SVM, instead of feature vectors\n",
    "**SVM:-Weaknesses**\n",
    "    \n",
    "    1) Need a “good” kernel function\n",
    "**Answer:** Doing some research I found that there are very few cases where SVM doesn't perform well. It may take time but for feature size of >100 (say) SVM is one of the best to go with. It works well with smaller dataset too maybe at the cost of time complexity."
   ]
  },
  {
   "cell_type": "markdown",
   "metadata": {},
   "source": [
    "### Setup\n",
    "Run the code cell below to initialize three helper functions which you can use for training and testing the three supervised learning models you've chosen above. The functions are as follows:\n",
    "- `train_classifier` - takes as input a classifier and training data and fits the classifier to the data.\n",
    "- `predict_labels` - takes as input a fit classifier, features, and a target labeling and makes predictions using the F<sub>1</sub> score.\n",
    "- `train_predict` - takes as input a classifier, and the training and testing data, and performs `train_clasifier` and `predict_labels`.\n",
    " - This function will report the F<sub>1</sub> score for both the training and testing data separately."
   ]
  },
  {
   "cell_type": "code",
   "execution_count": 36,
   "metadata": {
    "collapsed": false
   },
   "outputs": [],
   "source": [
    "def train_classifier(clf, X_train, y_train):\n",
    "    ''' Fits a classifier to the training data. '''\n",
    "    \n",
    "    # Start the clock, train the classifier, then stop the clock\n",
    "    start = time()\n",
    "    clf.fit(X_train, y_train)\n",
    "    end = time()\n",
    "    \n",
    "    # Print the results\n",
    "    print \"Trained model in {:.4f} seconds\".format(end - start)\n",
    "\n",
    "    \n",
    "def predict_labels(clf, features, target):\n",
    "    ''' Makes predictions using a fit classifier based on F1 score. '''\n",
    "    \n",
    "    # Start the clock, make predictions, then stop the clock\n",
    "    start = time()\n",
    "    y_pred = clf.predict(features)\n",
    "    end = time()\n",
    "    \n",
    "    # Print and return results\n",
    "    print \"Made predictions in {:.4f} seconds.\".format(end - start)\n",
    "    return f1_score(target.values, y_pred, pos_label='yes')\n",
    "\n",
    "\n",
    "def train_predict(clf, X_train, y_train, X_test, y_test):\n",
    "    ''' Train and predict using a classifer based on F1 score. '''\n",
    "    \n",
    "    # Indicate the classifier and the training set size\n",
    "    print \"Training a {} using a training set size of {}. . .\".format(clf.__class__.__name__, len(X_train))\n",
    "    \n",
    "    # Train the classifier\n",
    "    train_classifier(clf, X_train, y_train)\n",
    "    \n",
    "    # Print the results of prediction for both training and testing\n",
    "    print \"F1 score for training set: {:.4f}.\".format(predict_labels(clf, X_train, y_train))\n",
    "    print \"F1 score for test set: {:.4f}.\".format(predict_labels(clf, X_test, y_test))"
   ]
  },
  {
   "cell_type": "markdown",
   "metadata": {},
   "source": [
    "### Implementation: Model Performance Metrics\n",
    "With the predefined functions above, you will now import the three supervised learning models of your choice and run the `train_predict` function for each one. Remember that you will need to train and predict on each classifier for three different training set sizes: 100, 200, and 300. Hence, you should expect to have 9 different outputs below — 3 for each model using the varying training set sizes. In the following code cell, you will need to implement the following:\n",
    "- Import the three supervised learning models you've discussed in the previous section.\n",
    "- Initialize the three models and store them in `clf_A`, `clf_B`, and `clf_C`.\n",
    " - Use a `random_state` for each model you use, if provided.\n",
    " - **Note:** Use the default settings for each model — you will tune one specific model in a later section.\n",
    "- Create the different training set sizes to be used to train each model.\n",
    " - *Do not reshuffle and resplit the data! The new training points should be drawn from `X_train` and `y_train`.*\n",
    "- Fit each model with each training set size and make predictions on the test set (9 in total).  \n",
    "**Note:** Three tables are provided after the following code cell which can be used to store your results."
   ]
  },
  {
   "cell_type": "code",
   "execution_count": 126,
   "metadata": {
    "collapsed": false
   },
   "outputs": [
    {
     "name": "stdout",
     "output_type": "stream",
     "text": [
      "Decision Tree 100\n",
      "\n",
      "Training a DecisionTreeClassifier using a training set size of 100. . .\n",
      "Trained model in 0.0046 seconds\n",
      "Made predictions in 0.0005 seconds.\n",
      "F1 score for training set: 1.0000.\n",
      "Made predictions in 0.0005 seconds.\n",
      "F1 score for test set: 0.7176.\n",
      ".....................................\n",
      "Decision Tree 200\n",
      "\n",
      "Training a DecisionTreeClassifier using a training set size of 200. . .\n",
      "Trained model in 0.0019 seconds\n",
      "Made predictions in 0.0003 seconds.\n",
      "F1 score for training set: 1.0000.\n",
      "Made predictions in 0.0003 seconds.\n",
      "F1 score for test set: 0.6154.\n",
      ".....................................\n",
      "Decision Tree 300\n",
      "\n",
      "Training a DecisionTreeClassifier using a training set size of 300. . .\n",
      "Trained model in 0.0024 seconds\n",
      "Made predictions in 0.0004 seconds.\n",
      "F1 score for training set: 1.0000.\n",
      "Made predictions in 0.0003 seconds.\n",
      "F1 score for test set: 0.6500.\n",
      ".....................................\n",
      "Logistic Regression 100\n",
      "\n",
      "Training a LogisticRegression using a training set size of 100. . .\n",
      "Trained model in 0.0021 seconds\n",
      "Made predictions in 0.0628 seconds.\n",
      "F1 score for training set: 0.9296.\n",
      "Made predictions in 0.0008 seconds.\n",
      "F1 score for test set: 0.7786.\n",
      ".....................................\n",
      "Logistic Regression 200\n",
      "\n",
      "Training a LogisticRegression using a training set size of 200. . .\n",
      "Trained model in 0.0042 seconds\n",
      "Made predictions in 0.0005 seconds.\n",
      "F1 score for training set: 0.8451.\n",
      "Made predictions in 0.0002 seconds.\n",
      "F1 score for test set: 0.7612.\n",
      ".....................................\n",
      "Logistic Regression 300\n",
      "\n",
      "Training a LogisticRegression using a training set size of 300. . .\n",
      "Trained model in 0.0044 seconds\n",
      "Made predictions in 0.0014 seconds.\n",
      "F1 score for training set: 0.8486.\n",
      "Made predictions in 0.0006 seconds.\n",
      "F1 score for test set: 0.7910.\n",
      "......................................\n",
      "SVM 100\n",
      "\n",
      "Training a SVC using a training set size of 100. . .\n",
      "Trained model in 0.0033 seconds\n",
      "Made predictions in 0.0018 seconds.\n",
      "F1 score for training set: 0.8993.\n",
      "Made predictions in 0.0016 seconds.\n",
      "F1 score for test set: 0.8392.\n",
      ".....................................\n",
      "SVM 200\n",
      "\n",
      "Training a SVC using a training set size of 200. . .\n",
      "Trained model in 0.0050 seconds\n",
      "Made predictions in 0.0039 seconds.\n",
      "F1 score for training set: 0.8763.\n",
      "Made predictions in 0.0027 seconds.\n",
      "F1 score for test set: 0.8252.\n",
      ".....................................\n",
      "SVM 300\n",
      "\n",
      "Training a SVC using a training set size of 300. . .\n",
      "Trained model in 0.0099 seconds\n",
      "Made predictions in 0.0070 seconds.\n",
      "F1 score for training set: 0.8758.\n",
      "Made predictions in 0.0023 seconds.\n",
      "F1 score for test set: 0.8138.\n"
     ]
    }
   ],
   "source": [
    "# TODO: Import the three supervised learning models from sklearn\n",
    "from sklearn import tree\n",
    "from sklearn import linear_model\n",
    "from sklearn import svm\n",
    "\n",
    "# TODO: Initialize the three models\n",
    "clf_A = tree.DecisionTreeClassifier(random_state=130)\n",
    "#clf_A = RandomForestClassifier(n_estimators=10)\n",
    "#clf_A= GaussianNB()\n",
    "#clf_A= KNeighborsClassifier(n_neighbors=5,algorithm='auto')\n",
    "clf_B = linear_model.LogisticRegression(random_state=130)\n",
    "clf_C = svm.SVC(random_state=130)\n",
    "\n",
    "# TODO: Set up the training set sizes\n",
    "X_train_100 = X_train[:100]\n",
    "y_train_100 = y_train[:100]\n",
    "\n",
    "\n",
    "X_train_200 = X_train[:200]\n",
    "y_train_200 = y_train[:200]\n",
    "\n",
    "\n",
    "X_train_300 =X_train[:300]\n",
    "y_train_300 = y_train[:300]\n",
    "\n",
    "\n",
    "\n",
    "print(\"Decision Tree 100\\n\")\n",
    "train_predict(clf_A, X_train_100, y_train_100, X_test, y_test)\n",
    "print(\".....................................\")\n",
    "print(\"Decision Tree 200\\n\")\n",
    "train_predict(clf_A, X_train_200, y_train_200, X_test, y_test)\n",
    "print(\".....................................\")\n",
    "print(\"Decision Tree 300\\n\")\n",
    "train_predict(clf_A, X_train_300, y_train_300, X_test, y_test)\n",
    "print(\".....................................\")\n",
    "\n",
    "print(\"Logistic Regression 100\\n\")\n",
    "train_predict(clf_B, X_train_100, y_train_100, X_test, y_test)\n",
    "print(\".....................................\")\n",
    "print(\"Logistic Regression 200\\n\")\n",
    "train_predict(clf_B, X_train_200, y_train_200, X_test, y_test)\n",
    "print(\".....................................\")\n",
    "print(\"Logistic Regression 300\\n\")\n",
    "train_predict(clf_B, X_train_300, y_train_300, X_test, y_test)\n",
    "print(\"......................................\")\n",
    "\n",
    "print(\"SVM 100\\n\")\n",
    "train_predict(clf_C, X_train_100, y_train_100, X_test, y_test)\n",
    "print(\".....................................\")\n",
    "print(\"SVM 200\\n\")\n",
    "train_predict(clf_C, X_train_200, y_train_200, X_test, y_test)\n",
    "print(\".....................................\")\n",
    "print(\"SVM 300\\n\")\n",
    "train_predict(clf_C, X_train_300, y_train_300, X_test, y_test)\n",
    "\n"
   ]
  },
  {
   "cell_type": "code",
   "execution_count": 47,
   "metadata": {
    "collapsed": false,
    "scrolled": true
   },
   "outputs": [
    {
     "name": "stdout",
     "output_type": "stream",
     "text": [
      "F1 score for predicting all \"no\" on test set: 0.4921\n",
      "F1 score for predicting all \"yes\" on test set: 0.8050\n"
     ]
    }
   ],
   "source": [
    "from sklearn.metrics import f1_score\n",
    "print \"F1 score for predicting all \\\"no\\\" on test set: {:.4f}\" .format(f1_score(y_test,[\"no\"]*len(y_test),pos_label='no',average='binary'))\n",
    "print \"F1 score for predicting all \\\"yes\\\" on test set: {:.4f}\" .format(f1_score(y_test,[\"yes\"]*len(y_test),pos_label='yes',average='binary'))"
   ]
  },
  {
   "cell_type": "markdown",
   "metadata": {},
   "source": [
    "### Tabular Results\n",
    "Edit the cell below to see how a table can be designed in [Markdown](https://github.com/adam-p/markdown-here/wiki/Markdown-Cheatsheet#tables). You can record your results from above in the tables provided."
   ]
  },
  {
   "cell_type": "markdown",
   "metadata": {},
   "source": [
    "** Classifer 1 - Decision Tree**  \n",
    "\n",
    "| Training Set Size | Training Time | Prediction Time (test) | F1 Score (train) | F1 Score (test) |\n",
    "| :---------------: | :---------------------: | :--------------------: | :--------------: | :-------------: |\n",
    "| 100               |     .0005                |    .0005                    |     1              |   .7176              |\n",
    "| 200               |      .0003         |              .0003          |              1    |             .6154   |\n",
    "| 300               |      .0004                   |    .0003                   |     1             |      .6500  |\n",
    "\n",
    "** Classifer 2 - Logistic Regression**  \n",
    "\n",
    "| Training Set Size | Training Time | Prediction Time (test) | F1 Score (train) | F1 Score (test) |\n",
    "| :---------------: | :---------------------: | :--------------------: | :--------------: | :-------------: |\n",
    "| 100               |     .0628                    | .0008                      |  .9296               |           .7786       |\n",
    "| 200               |    .0005             |          .0002              |           .8451        |           .7621     |\n",
    "| 300               |    .0006                     |    .0014                    |     .8486             |  .7910        |\n",
    "\n",
    "** Classifer 3 - SVM**  \n",
    "\n",
    "| Training Set Size | Training Time | Prediction Time (test) | F1 Score (train) | F1 Score (test) |\n",
    "| :---------------: | :---------------------: | :--------------------: | :--------------: | :-------------: |\n",
    "| 100               |    .0018                     |  .0016                     |  .8993                              |  .8392               |\n",
    "| 200               |     .0039                    |    .0027                    |  .8763                |   .8252              |\n",
    "| 300               |     .0070                    |     .0023                   |   .8758               |  .8138              |"
   ]
  },
  {
   "cell_type": "markdown",
   "metadata": {},
   "source": [
    "## Choosing the Best Model\n",
    "In this final section, you will choose from the three supervised learning models the *best* model to use on the student data. You will then perform a grid search optimization for the model over the entire training set (`X_train` and `y_train`) by tuning at least one parameter to improve upon the untuned model's F<sub>1</sub> score. "
   ]
  },
  {
   "cell_type": "markdown",
   "metadata": {},
   "source": [
    "### Question 3 - Choosing the Best Model\n",
    "*Based on the experiments you performed earlier, in one to two paragraphs, explain to the board of supervisors what single model you chose as the best model. Which model is generally the most appropriate based on the available data, limited resources, cost, and performance?*"
   ]
  },
  {
   "cell_type": "markdown",
   "metadata": {},
   "source": [
    "**Answer: ** Lets first look at the table 1 i.e the table for Decision Tree classifier. Notice that the predictions have been done pretty fast. Also note that the train score is 1 and testing score is reasonable with a high difference between the two. This suggests overfitting . Table 2 shows the information of Logistic Regression. This classifier performs reasonably well on training size of 200 and 300 and it makes the predictions fast enough and faster than a decision tree classifier. It should also be noted that as the training examples increase from 200 to 300 the logistic regression classifier becomes more accurate.However it seems tuning could improve results as testing accuracy gets closer to training accuracy..Last Table shows the performance of SVM. SVM performs better than all the other two classifiers consistently at the cost of time complexity. SVM classifier takes more time to classify as well as to predict than the logistic regression even though its accuracy is consistently high. Considering the comaprison between the performances of the chosen classifiers we choose the SVM Classifier because of its consistent accuracy. One thing to be noticed is that because of the small size of the dataset the time complexity of SVM, which is more than Logistic regression or Decision tree, does not pose any problem."
   ]
  },
  {
   "cell_type": "code",
   "execution_count": 114,
   "metadata": {
    "collapsed": false
   },
   "outputs": [
    {
     "data": {
      "text/plain": [
       "<matplotlib.text.Text at 0x12597d210>"
      ]
     },
     "execution_count": 114,
     "metadata": {},
     "output_type": "execute_result"
    },
    {
     "data": {
      "image/png": "[encoded data removed]",
      "text/plain": [
       "<matplotlib.figure.Figure at 0x125471310>"
      ]
     },
     "metadata": {},
     "output_type": "display_data"
    }
   ],
   "source": [
    "from sklearn.metrics import confusion_matrix\n",
    "import seaborn as sns\n",
    "import matplotlib.pyplot as plt\n",
    "%matplotlib inline\n",
    "\n",
    "model= clf_C\n",
    "cm = confusion_matrix(y_test,model.predict(X_test))\n",
    "cm = cm.astype('float') / cm.sum(axis=1)[:, np.newaxis]\n",
    "sns.heatmap(cm, annot=True,fmt='.3f', cmap='Blues', xticklabels = ['no','yes'], yticklabels = ['no','yes'],square=True)\n",
    "plt.ylabel('True label')\n",
    "plt.xlabel('Predicted label')\n",
    "plt.title('confusion matrix for SVC:\\n')"
   ]
  },
  {
   "cell_type": "markdown",
   "metadata": {},
   "source": [
    "### Question 4 - Model in Layman's Terms\n",
    "*In one to two paragraphs, explain to the board of directors in layman's terms how the final model chosen is supposed to work. Be sure that you are describing the major qualities of the model, such as how the model is trained and how the model makes a prediction. Avoid using advanced mathematical or technical jargon, such as describing equations or discussing the algorithm implementation.*"
   ]
  },
  {
   "cell_type": "markdown",
   "metadata": {},
   "source": [
    "**Answer:** Suppose we have to split black and white circles by a drawing a line. There are an infinite number of lines that can probably be drawn. Suppose we draw a line to split these two kinds of circles. Then what does SVM do? Its easy to classify circles which are far from the line. But what about the point close to the line? Its difficult to classify them more than the ones further away from the line. What SVM does is it finds a line which maximizes the distance of these points close to the line.Suppose we need a curved line to split the circles. What would we do then? We apply a clever trick. We dont draw curves lines but lift the observed features into a higher dimensionand draw a the line in the higher dimension which maximizes the distance between the line and the nearest points. Then we project the line to two dimension and in two dimension the line looks curved. This is in essence SVM.(https://www.quora.com/What-does-support-vector-machine-SVM-mean-in-laymans-terms)\n",
    "\n",
    "Now what is happening in our context:\n",
    "\n",
    "1) SVM takes data of students (e.g age,gender, family etc) and uses them to create a function that drws a linear boundary between the students who graduated and who didn't. Now as mentioned before there could be infinite number of such boundaries. It chooses the boundary in such a way that the distance of the students closest to the boundary is maximum.\n",
    "\n",
    "2) Often it is not possible to draw a linear decision boundary in a low dimension. It then lifts the features to a higher dimension and creates a linear boundary between passing and failing students in that higher dimension(technical names being 'hyperplane') and the projection of that boundary looks like a curved boundary in the lower dimension. \n",
    "\n",
    "3) We use the training set to create the function which creates the boundary. Now SVM uses the same function to predict whether a new student will pass or not. We check its accuracy by applying it on the test set and observing how accurately it predicts on the test set whose outcomes we already know. This gives us a sense of the robustness of the algorithm."
   ]
  },
  {
   "cell_type": "markdown",
   "metadata": {},
   "source": [
    "### Implementation: Model Tuning\n",
    "Fine tune the chosen model. Use grid search (`GridSearchCV`) with at least one important parameter tuned with at least 3 different values. You will need to use the entire training set for this. In the code cell below, you will need to implement the following:\n",
    "- Import [`sklearn.grid_search.GridSearchCV`](http://scikit-learn.org/0.17/modules/generated/sklearn.grid_search.GridSearchCV.html) and [`sklearn.metrics.make_scorer`](http://scikit-learn.org/stable/modules/generated/sklearn.metrics.make_scorer.html).\n",
    "- Create a dictionary of parameters you wish to tune for the chosen model.\n",
    " - Example: `parameters = {'parameter' : [list of values]}`.\n",
    "- Initialize the classifier you've chosen and store it in `clf`.\n",
    "- Create the F<sub>1</sub> scoring function using `make_scorer` and store it in `f1_scorer`.\n",
    " - Set the `pos_label` parameter to the correct value!\n",
    "- Perform grid search on the classifier `clf` using `f1_scorer` as the scoring method, and store it in `grid_obj`.\n",
    "- Fit the grid search object to the training data (`X_train`, `y_train`), and store it in `grid_obj`."
   ]
  },
  {
   "cell_type": "code",
   "execution_count": 54,
   "metadata": {
    "collapsed": false
   },
   "outputs": [
    {
     "name": "stdout",
     "output_type": "stream",
     "text": [
      "Made predictions in 0.0057 seconds.\n",
      "Tuned model has a training F1 score of 0.8235.\n",
      "Made predictions in 0.0028 seconds.\n",
      "Tuned model has a testing F1 score of 0.8219.\n",
      "SVC(C=100.0, cache_size=200, class_weight=None, coef0=0.0,\n",
      "  decision_function_shape=None, degree=3, gamma=0.0001, kernel='rbf',\n",
      "  max_iter=-1, probability=False, random_state=None, shrinking=True,\n",
      "  tol=0.001, verbose=False)\n"
     ]
    }
   ],
   "source": [
    "from sklearn.grid_search import GridSearchCV\n",
    "from sklearn.metrics import f1_score, make_scorer\n",
    "from sklearn.preprocessing import normalize\n",
    "from sklearn import svm\n",
    "\n",
    "\n",
    "# TODO: Create the parameters list you wish to tune\n",
    "C_range = np.logspace(-2, 10, 13)\n",
    "gamma_range = np.logspace(-9, 3, 13)\n",
    "parameter = dict(gamma=gamma_range, C=C_range)\n",
    "\n",
    "# TODO: Initialize the classifier\n",
    "clf = svm.SVC()\n",
    "\n",
    "# TODO: Make an f1 scoring function using 'make_scorer' \n",
    "f1_scorer = make_scorer(f1_score,greater_is_better=True, pos_label='yes')\n",
    "# TODO: Perform grid search on the classifier using the f1_scorer as the scoring method\n",
    "grid_obj = GridSearchCV(clf, parameter, scoring = f1_scorer, cv=None)\n",
    "\n",
    "# TODO: Fit the grid search object to the training data and find the optimal parameters\n",
    "grid_obj = grid_obj.fit(X_train,y_train)\n",
    "\n",
    "# Get the estimator\n",
    "clf = grid_obj.best_estimator_\n",
    "\n",
    "# Report the final F1 score for training and testing after parameter tuning\n",
    "print \"Tuned model has a training F1 score of {:.4f}.\".format(predict_labels(clf, X_train, y_train))\n",
    "print \"Tuned model has a testing F1 score of {:.4f}.\".format(predict_labels(clf, X_test, y_test))\n",
    "print clf"
   ]
  },
  {
   "cell_type": "markdown",
   "metadata": {},
   "source": [
    "### Question 5 - Final F<sub>1</sub> Score\n",
    "*What is the final model's F<sub>1</sub> score for training and testing? How does that score compare to the untuned model?*"
   ]
  },
  {
   "cell_type": "markdown",
   "metadata": {},
   "source": [
    "**Answer: ** It seems that the performance of SVM has improved a lot. Even though in some of the default cases the training score was higher here the training and test scores are very close to each other and reasonably high which suggests that it is in fact a reasonably good predictive model in this case."
   ]
  },
  {
   "cell_type": "code",
   "execution_count": 82,
   "metadata": {
    "collapsed": true
   },
   "outputs": [],
   "source": [
    "cm = pd.DataFrame(grid_obj.grid_scores_)"
   ]
  },
  {
   "cell_type": "code",
   "execution_count": 60,
   "metadata": {
    "collapsed": false,
    "scrolled": true
   },
   "outputs": [
    {
     "data": {
      "text/html": [
       "<div>\n",
       "<table border=\"1\" class=\"dataframe\">\n",
       "  <thead>\n",
       "    <tr style=\"text-align: right;\">\n",
       "      <th></th>\n",
       "      <th>parameters</th>\n",
       "      <th>mean_validation_score</th>\n",
       "      <th>cv_validation_scores</th>\n",
       "    </tr>\n",
       "  </thead>\n",
       "  <tbody>\n",
       "    <tr>\n",
       "      <th>0</th>\n",
       "      <td>{u'C': 0.01, u'gamma': 1e-09}</td>\n",
       "      <td>0.802395</td>\n",
       "      <td>[0.802395209581, 0.802395209581, 0.802395209581]</td>\n",
       "    </tr>\n",
       "    <tr>\n",
       "      <th>1</th>\n",
       "      <td>{u'C': 0.01, u'gamma': 1e-08}</td>\n",
       "      <td>0.802395</td>\n",
       "      <td>[0.802395209581, 0.802395209581, 0.802395209581]</td>\n",
       "    </tr>\n",
       "    <tr>\n",
       "      <th>2</th>\n",
       "      <td>{u'C': 0.01, u'gamma': 1e-07}</td>\n",
       "      <td>0.802395</td>\n",
       "      <td>[0.802395209581, 0.802395209581, 0.802395209581]</td>\n",
       "    </tr>\n",
       "    <tr>\n",
       "      <th>3</th>\n",
       "      <td>{u'C': 0.01, u'gamma': 1e-06}</td>\n",
       "      <td>0.802395</td>\n",
       "      <td>[0.802395209581, 0.802395209581, 0.802395209581]</td>\n",
       "    </tr>\n",
       "    <tr>\n",
       "      <th>4</th>\n",
       "      <td>{u'C': 0.01, u'gamma': 1e-05}</td>\n",
       "      <td>0.802395</td>\n",
       "      <td>[0.802395209581, 0.802395209581, 0.802395209581]</td>\n",
       "    </tr>\n",
       "    <tr>\n",
       "      <th>5</th>\n",
       "      <td>{u'C': 0.01, u'gamma': 0.0001}</td>\n",
       "      <td>0.802395</td>\n",
       "      <td>[0.802395209581, 0.802395209581, 0.802395209581]</td>\n",
       "    </tr>\n",
       "    <tr>\n",
       "      <th>6</th>\n",
       "      <td>{u'C': 0.01, u'gamma': 0.001}</td>\n",
       "      <td>0.802395</td>\n",
       "      <td>[0.802395209581, 0.802395209581, 0.802395209581]</td>\n",
       "    </tr>\n",
       "    <tr>\n",
       "      <th>7</th>\n",
       "      <td>{u'C': 0.01, u'gamma': 0.01}</td>\n",
       "      <td>0.802395</td>\n",
       "      <td>[0.802395209581, 0.802395209581, 0.802395209581]</td>\n",
       "    </tr>\n",
       "    <tr>\n",
       "      <th>8</th>\n",
       "      <td>{u'C': 0.01, u'gamma': 0.1}</td>\n",
       "      <td>0.802395</td>\n",
       "      <td>[0.802395209581, 0.802395209581, 0.802395209581]</td>\n",
       "    </tr>\n",
       "    <tr>\n",
       "      <th>9</th>\n",
       "      <td>{u'C': 0.01, u'gamma': 1.0}</td>\n",
       "      <td>0.802395</td>\n",
       "      <td>[0.802395209581, 0.802395209581, 0.802395209581]</td>\n",
       "    </tr>\n",
       "    <tr>\n",
       "      <th>10</th>\n",
       "      <td>{u'C': 0.01, u'gamma': 10.0}</td>\n",
       "      <td>0.802395</td>\n",
       "      <td>[0.802395209581, 0.802395209581, 0.802395209581]</td>\n",
       "    </tr>\n",
       "    <tr>\n",
       "      <th>11</th>\n",
       "      <td>{u'C': 0.01, u'gamma': 100.0}</td>\n",
       "      <td>0.802395</td>\n",
       "      <td>[0.802395209581, 0.802395209581, 0.802395209581]</td>\n",
       "    </tr>\n",
       "    <tr>\n",
       "      <th>12</th>\n",
       "      <td>{u'C': 0.01, u'gamma': 1000.0}</td>\n",
       "      <td>0.802395</td>\n",
       "      <td>[0.802395209581, 0.802395209581, 0.802395209581]</td>\n",
       "    </tr>\n",
       "    <tr>\n",
       "      <th>13</th>\n",
       "      <td>{u'C': 0.1, u'gamma': 1e-09}</td>\n",
       "      <td>0.802395</td>\n",
       "      <td>[0.802395209581, 0.802395209581, 0.802395209581]</td>\n",
       "    </tr>\n",
       "    <tr>\n",
       "      <th>14</th>\n",
       "      <td>{u'C': 0.1, u'gamma': 1e-08}</td>\n",
       "      <td>0.802395</td>\n",
       "      <td>[0.802395209581, 0.802395209581, 0.802395209581]</td>\n",
       "    </tr>\n",
       "    <tr>\n",
       "      <th>15</th>\n",
       "      <td>{u'C': 0.1, u'gamma': 1e-07}</td>\n",
       "      <td>0.802395</td>\n",
       "      <td>[0.802395209581, 0.802395209581, 0.802395209581]</td>\n",
       "    </tr>\n",
       "    <tr>\n",
       "      <th>16</th>\n",
       "      <td>{u'C': 0.1, u'gamma': 1e-06}</td>\n",
       "      <td>0.802395</td>\n",
       "      <td>[0.802395209581, 0.802395209581, 0.802395209581]</td>\n",
       "    </tr>\n",
       "    <tr>\n",
       "      <th>17</th>\n",
       "      <td>{u'C': 0.1, u'gamma': 1e-05}</td>\n",
       "      <td>0.802395</td>\n",
       "      <td>[0.802395209581, 0.802395209581, 0.802395209581]</td>\n",
       "    </tr>\n",
       "    <tr>\n",
       "      <th>18</th>\n",
       "      <td>{u'C': 0.1, u'gamma': 0.0001}</td>\n",
       "      <td>0.802395</td>\n",
       "      <td>[0.802395209581, 0.802395209581, 0.802395209581]</td>\n",
       "    </tr>\n",
       "    <tr>\n",
       "      <th>19</th>\n",
       "      <td>{u'C': 0.1, u'gamma': 0.001}</td>\n",
       "      <td>0.802395</td>\n",
       "      <td>[0.802395209581, 0.802395209581, 0.802395209581]</td>\n",
       "    </tr>\n",
       "    <tr>\n",
       "      <th>20</th>\n",
       "      <td>{u'C': 0.1, u'gamma': 0.01}</td>\n",
       "      <td>0.802395</td>\n",
       "      <td>[0.802395209581, 0.802395209581, 0.802395209581]</td>\n",
       "    </tr>\n",
       "    <tr>\n",
       "      <th>21</th>\n",
       "      <td>{u'C': 0.1, u'gamma': 0.1}</td>\n",
       "      <td>0.802395</td>\n",
       "      <td>[0.802395209581, 0.802395209581, 0.802395209581]</td>\n",
       "    </tr>\n",
       "    <tr>\n",
       "      <th>22</th>\n",
       "      <td>{u'C': 0.1, u'gamma': 1.0}</td>\n",
       "      <td>0.802395</td>\n",
       "      <td>[0.802395209581, 0.802395209581, 0.802395209581]</td>\n",
       "    </tr>\n",
       "    <tr>\n",
       "      <th>23</th>\n",
       "      <td>{u'C': 0.1, u'gamma': 10.0}</td>\n",
       "      <td>0.802395</td>\n",
       "      <td>[0.802395209581, 0.802395209581, 0.802395209581]</td>\n",
       "    </tr>\n",
       "    <tr>\n",
       "      <th>24</th>\n",
       "      <td>{u'C': 0.1, u'gamma': 100.0}</td>\n",
       "      <td>0.802395</td>\n",
       "      <td>[0.802395209581, 0.802395209581, 0.802395209581]</td>\n",
       "    </tr>\n",
       "    <tr>\n",
       "      <th>25</th>\n",
       "      <td>{u'C': 0.1, u'gamma': 1000.0}</td>\n",
       "      <td>0.802395</td>\n",
       "      <td>[0.802395209581, 0.802395209581, 0.802395209581]</td>\n",
       "    </tr>\n",
       "    <tr>\n",
       "      <th>26</th>\n",
       "      <td>{u'C': 1.0, u'gamma': 1e-09}</td>\n",
       "      <td>0.802395</td>\n",
       "      <td>[0.802395209581, 0.802395209581, 0.802395209581]</td>\n",
       "    </tr>\n",
       "    <tr>\n",
       "      <th>27</th>\n",
       "      <td>{u'C': 1.0, u'gamma': 1e-08}</td>\n",
       "      <td>0.802395</td>\n",
       "      <td>[0.802395209581, 0.802395209581, 0.802395209581]</td>\n",
       "    </tr>\n",
       "    <tr>\n",
       "      <th>28</th>\n",
       "      <td>{u'C': 1.0, u'gamma': 1e-07}</td>\n",
       "      <td>0.802395</td>\n",
       "      <td>[0.802395209581, 0.802395209581, 0.802395209581]</td>\n",
       "    </tr>\n",
       "    <tr>\n",
       "      <th>29</th>\n",
       "      <td>{u'C': 1.0, u'gamma': 1e-06}</td>\n",
       "      <td>0.802395</td>\n",
       "      <td>[0.802395209581, 0.802395209581, 0.802395209581]</td>\n",
       "    </tr>\n",
       "    <tr>\n",
       "      <th>...</th>\n",
       "      <td>...</td>\n",
       "      <td>...</td>\n",
       "      <td>...</td>\n",
       "    </tr>\n",
       "    <tr>\n",
       "      <th>139</th>\n",
       "      <td>{u'C': 100000000.0, u'gamma': 1.0}</td>\n",
       "      <td>0.802395</td>\n",
       "      <td>[0.802395209581, 0.802395209581, 0.802395209581]</td>\n",
       "    </tr>\n",
       "    <tr>\n",
       "      <th>140</th>\n",
       "      <td>{u'C': 100000000.0, u'gamma': 10.0}</td>\n",
       "      <td>0.802395</td>\n",
       "      <td>[0.802395209581, 0.802395209581, 0.802395209581]</td>\n",
       "    </tr>\n",
       "    <tr>\n",
       "      <th>141</th>\n",
       "      <td>{u'C': 100000000.0, u'gamma': 100.0}</td>\n",
       "      <td>0.802395</td>\n",
       "      <td>[0.802395209581, 0.802395209581, 0.802395209581]</td>\n",
       "    </tr>\n",
       "    <tr>\n",
       "      <th>142</th>\n",
       "      <td>{u'C': 100000000.0, u'gamma': 1000.0}</td>\n",
       "      <td>0.802395</td>\n",
       "      <td>[0.802395209581, 0.802395209581, 0.802395209581]</td>\n",
       "    </tr>\n",
       "    <tr>\n",
       "      <th>143</th>\n",
       "      <td>{u'C': 1000000000.0, u'gamma': 1e-09}</td>\n",
       "      <td>0.797317</td>\n",
       "      <td>[0.802547770701, 0.781456953642, 0.807947019868]</td>\n",
       "    </tr>\n",
       "    <tr>\n",
       "      <th>144</th>\n",
       "      <td>{u'C': 1000000000.0, u'gamma': 1e-08}</td>\n",
       "      <td>0.778492</td>\n",
       "      <td>[0.774647887324, 0.765957446809, 0.794871794872]</td>\n",
       "    </tr>\n",
       "    <tr>\n",
       "      <th>145</th>\n",
       "      <td>{u'C': 1000000000.0, u'gamma': 1e-07}</td>\n",
       "      <td>0.748335</td>\n",
       "      <td>[0.791044776119, 0.707692307692, 0.746268656716]</td>\n",
       "    </tr>\n",
       "    <tr>\n",
       "      <th>146</th>\n",
       "      <td>{u'C': 1000000000.0, u'gamma': 1e-06}</td>\n",
       "      <td>0.743689</td>\n",
       "      <td>[0.748091603053, 0.677419354839, 0.805555555556]</td>\n",
       "    </tr>\n",
       "    <tr>\n",
       "      <th>147</th>\n",
       "      <td>{u'C': 1000000000.0, u'gamma': 1e-05}</td>\n",
       "      <td>0.734522</td>\n",
       "      <td>[0.712121212121, 0.703125, 0.788321167883]</td>\n",
       "    </tr>\n",
       "    <tr>\n",
       "      <th>148</th>\n",
       "      <td>{u'C': 1000000000.0, u'gamma': 0.0001}</td>\n",
       "      <td>0.697700</td>\n",
       "      <td>[0.692307692308, 0.650793650794, 0.75]</td>\n",
       "    </tr>\n",
       "    <tr>\n",
       "      <th>149</th>\n",
       "      <td>{u'C': 1000000000.0, u'gamma': 0.001}</td>\n",
       "      <td>0.686004</td>\n",
       "      <td>[0.666666666667, 0.661417322835, 0.729927007299]</td>\n",
       "    </tr>\n",
       "    <tr>\n",
       "      <th>150</th>\n",
       "      <td>{u'C': 1000000000.0, u'gamma': 0.01}</td>\n",
       "      <td>0.704090</td>\n",
       "      <td>[0.732824427481, 0.634920634921, 0.744525547445]</td>\n",
       "    </tr>\n",
       "    <tr>\n",
       "      <th>151</th>\n",
       "      <td>{u'C': 1000000000.0, u'gamma': 0.1}</td>\n",
       "      <td>0.793979</td>\n",
       "      <td>[0.787096774194, 0.789808917197, 0.805031446541]</td>\n",
       "    </tr>\n",
       "    <tr>\n",
       "      <th>152</th>\n",
       "      <td>{u'C': 1000000000.0, u'gamma': 1.0}</td>\n",
       "      <td>0.802395</td>\n",
       "      <td>[0.802395209581, 0.802395209581, 0.802395209581]</td>\n",
       "    </tr>\n",
       "    <tr>\n",
       "      <th>153</th>\n",
       "      <td>{u'C': 1000000000.0, u'gamma': 10.0}</td>\n",
       "      <td>0.802395</td>\n",
       "      <td>[0.802395209581, 0.802395209581, 0.802395209581]</td>\n",
       "    </tr>\n",
       "    <tr>\n",
       "      <th>154</th>\n",
       "      <td>{u'C': 1000000000.0, u'gamma': 100.0}</td>\n",
       "      <td>0.802395</td>\n",
       "      <td>[0.802395209581, 0.802395209581, 0.802395209581]</td>\n",
       "    </tr>\n",
       "    <tr>\n",
       "      <th>155</th>\n",
       "      <td>{u'C': 1000000000.0, u'gamma': 1000.0}</td>\n",
       "      <td>0.802395</td>\n",
       "      <td>[0.802395209581, 0.802395209581, 0.802395209581]</td>\n",
       "    </tr>\n",
       "    <tr>\n",
       "      <th>156</th>\n",
       "      <td>{u'C': 10000000000.0, u'gamma': 1e-09}</td>\n",
       "      <td>0.781498</td>\n",
       "      <td>[0.802547770701, 0.75, 0.791946308725]</td>\n",
       "    </tr>\n",
       "    <tr>\n",
       "      <th>157</th>\n",
       "      <td>{u'C': 10000000000.0, u'gamma': 1e-08}</td>\n",
       "      <td>0.756358</td>\n",
       "      <td>[0.8, 0.687022900763, 0.782051282051]</td>\n",
       "    </tr>\n",
       "    <tr>\n",
       "      <th>158</th>\n",
       "      <td>{u'C': 10000000000.0, u'gamma': 1e-07}</td>\n",
       "      <td>0.726840</td>\n",
       "      <td>[0.742424242424, 0.68253968254, 0.755555555556]</td>\n",
       "    </tr>\n",
       "    <tr>\n",
       "      <th>159</th>\n",
       "      <td>{u'C': 10000000000.0, u'gamma': 1e-06}</td>\n",
       "      <td>0.728407</td>\n",
       "      <td>[0.692307692308, 0.692913385827, 0.8]</td>\n",
       "    </tr>\n",
       "    <tr>\n",
       "      <th>160</th>\n",
       "      <td>{u'C': 10000000000.0, u'gamma': 1e-05}</td>\n",
       "      <td>0.734522</td>\n",
       "      <td>[0.712121212121, 0.703125, 0.788321167883]</td>\n",
       "    </tr>\n",
       "    <tr>\n",
       "      <th>161</th>\n",
       "      <td>{u'C': 10000000000.0, u'gamma': 0.0001}</td>\n",
       "      <td>0.697700</td>\n",
       "      <td>[0.692307692308, 0.650793650794, 0.75]</td>\n",
       "    </tr>\n",
       "    <tr>\n",
       "      <th>162</th>\n",
       "      <td>{u'C': 10000000000.0, u'gamma': 0.001}</td>\n",
       "      <td>0.686004</td>\n",
       "      <td>[0.666666666667, 0.661417322835, 0.729927007299]</td>\n",
       "    </tr>\n",
       "    <tr>\n",
       "      <th>163</th>\n",
       "      <td>{u'C': 10000000000.0, u'gamma': 0.01}</td>\n",
       "      <td>0.704090</td>\n",
       "      <td>[0.732824427481, 0.634920634921, 0.744525547445]</td>\n",
       "    </tr>\n",
       "    <tr>\n",
       "      <th>164</th>\n",
       "      <td>{u'C': 10000000000.0, u'gamma': 0.1}</td>\n",
       "      <td>0.793979</td>\n",
       "      <td>[0.787096774194, 0.789808917197, 0.805031446541]</td>\n",
       "    </tr>\n",
       "    <tr>\n",
       "      <th>165</th>\n",
       "      <td>{u'C': 10000000000.0, u'gamma': 1.0}</td>\n",
       "      <td>0.802395</td>\n",
       "      <td>[0.802395209581, 0.802395209581, 0.802395209581]</td>\n",
       "    </tr>\n",
       "    <tr>\n",
       "      <th>166</th>\n",
       "      <td>{u'C': 10000000000.0, u'gamma': 10.0}</td>\n",
       "      <td>0.802395</td>\n",
       "      <td>[0.802395209581, 0.802395209581, 0.802395209581]</td>\n",
       "    </tr>\n",
       "    <tr>\n",
       "      <th>167</th>\n",
       "      <td>{u'C': 10000000000.0, u'gamma': 100.0}</td>\n",
       "      <td>0.802395</td>\n",
       "      <td>[0.802395209581, 0.802395209581, 0.802395209581]</td>\n",
       "    </tr>\n",
       "    <tr>\n",
       "      <th>168</th>\n",
       "      <td>{u'C': 10000000000.0, u'gamma': 1000.0}</td>\n",
       "      <td>0.802395</td>\n",
       "      <td>[0.802395209581, 0.802395209581, 0.802395209581]</td>\n",
       "    </tr>\n",
       "  </tbody>\n",
       "</table>\n",
       "<p>169 rows × 3 columns</p>\n",
       "</div>"
      ],
      "text/plain": [
       "                                  parameters  mean_validation_score  \\\n",
       "0              {u'C': 0.01, u'gamma': 1e-09}               0.802395   \n",
       "1              {u'C': 0.01, u'gamma': 1e-08}               0.802395   \n",
       "2              {u'C': 0.01, u'gamma': 1e-07}               0.802395   \n",
       "3              {u'C': 0.01, u'gamma': 1e-06}               0.802395   \n",
       "4              {u'C': 0.01, u'gamma': 1e-05}               0.802395   \n",
       "5             {u'C': 0.01, u'gamma': 0.0001}               0.802395   \n",
       "6              {u'C': 0.01, u'gamma': 0.001}               0.802395   \n",
       "7               {u'C': 0.01, u'gamma': 0.01}               0.802395   \n",
       "8                {u'C': 0.01, u'gamma': 0.1}               0.802395   \n",
       "9                {u'C': 0.01, u'gamma': 1.0}               0.802395   \n",
       "10              {u'C': 0.01, u'gamma': 10.0}               0.802395   \n",
       "11             {u'C': 0.01, u'gamma': 100.0}               0.802395   \n",
       "12            {u'C': 0.01, u'gamma': 1000.0}               0.802395   \n",
       "13              {u'C': 0.1, u'gamma': 1e-09}               0.802395   \n",
       "14              {u'C': 0.1, u'gamma': 1e-08}               0.802395   \n",
       "15              {u'C': 0.1, u'gamma': 1e-07}               0.802395   \n",
       "16              {u'C': 0.1, u'gamma': 1e-06}               0.802395   \n",
       "17              {u'C': 0.1, u'gamma': 1e-05}               0.802395   \n",
       "18             {u'C': 0.1, u'gamma': 0.0001}               0.802395   \n",
       "19              {u'C': 0.1, u'gamma': 0.001}               0.802395   \n",
       "20               {u'C': 0.1, u'gamma': 0.01}               0.802395   \n",
       "21                {u'C': 0.1, u'gamma': 0.1}               0.802395   \n",
       "22                {u'C': 0.1, u'gamma': 1.0}               0.802395   \n",
       "23               {u'C': 0.1, u'gamma': 10.0}               0.802395   \n",
       "24              {u'C': 0.1, u'gamma': 100.0}               0.802395   \n",
       "25             {u'C': 0.1, u'gamma': 1000.0}               0.802395   \n",
       "26              {u'C': 1.0, u'gamma': 1e-09}               0.802395   \n",
       "27              {u'C': 1.0, u'gamma': 1e-08}               0.802395   \n",
       "28              {u'C': 1.0, u'gamma': 1e-07}               0.802395   \n",
       "29              {u'C': 1.0, u'gamma': 1e-06}               0.802395   \n",
       "..                                       ...                    ...   \n",
       "139       {u'C': 100000000.0, u'gamma': 1.0}               0.802395   \n",
       "140      {u'C': 100000000.0, u'gamma': 10.0}               0.802395   \n",
       "141     {u'C': 100000000.0, u'gamma': 100.0}               0.802395   \n",
       "142    {u'C': 100000000.0, u'gamma': 1000.0}               0.802395   \n",
       "143    {u'C': 1000000000.0, u'gamma': 1e-09}               0.797317   \n",
       "144    {u'C': 1000000000.0, u'gamma': 1e-08}               0.778492   \n",
       "145    {u'C': 1000000000.0, u'gamma': 1e-07}               0.748335   \n",
       "146    {u'C': 1000000000.0, u'gamma': 1e-06}               0.743689   \n",
       "147    {u'C': 1000000000.0, u'gamma': 1e-05}               0.734522   \n",
       "148   {u'C': 1000000000.0, u'gamma': 0.0001}               0.697700   \n",
       "149    {u'C': 1000000000.0, u'gamma': 0.001}               0.686004   \n",
       "150     {u'C': 1000000000.0, u'gamma': 0.01}               0.704090   \n",
       "151      {u'C': 1000000000.0, u'gamma': 0.1}               0.793979   \n",
       "152      {u'C': 1000000000.0, u'gamma': 1.0}               0.802395   \n",
       "153     {u'C': 1000000000.0, u'gamma': 10.0}               0.802395   \n",
       "154    {u'C': 1000000000.0, u'gamma': 100.0}               0.802395   \n",
       "155   {u'C': 1000000000.0, u'gamma': 1000.0}               0.802395   \n",
       "156   {u'C': 10000000000.0, u'gamma': 1e-09}               0.781498   \n",
       "157   {u'C': 10000000000.0, u'gamma': 1e-08}               0.756358   \n",
       "158   {u'C': 10000000000.0, u'gamma': 1e-07}               0.726840   \n",
       "159   {u'C': 10000000000.0, u'gamma': 1e-06}               0.728407   \n",
       "160   {u'C': 10000000000.0, u'gamma': 1e-05}               0.734522   \n",
       "161  {u'C': 10000000000.0, u'gamma': 0.0001}               0.697700   \n",
       "162   {u'C': 10000000000.0, u'gamma': 0.001}               0.686004   \n",
       "163    {u'C': 10000000000.0, u'gamma': 0.01}               0.704090   \n",
       "164     {u'C': 10000000000.0, u'gamma': 0.1}               0.793979   \n",
       "165     {u'C': 10000000000.0, u'gamma': 1.0}               0.802395   \n",
       "166    {u'C': 10000000000.0, u'gamma': 10.0}               0.802395   \n",
       "167   {u'C': 10000000000.0, u'gamma': 100.0}               0.802395   \n",
       "168  {u'C': 10000000000.0, u'gamma': 1000.0}               0.802395   \n",
       "\n",
       "                                 cv_validation_scores  \n",
       "0    [0.802395209581, 0.802395209581, 0.802395209581]  \n",
       "1    [0.802395209581, 0.802395209581, 0.802395209581]  \n",
       "2    [0.802395209581, 0.802395209581, 0.802395209581]  \n",
       "3    [0.802395209581, 0.802395209581, 0.802395209581]  \n",
       "4    [0.802395209581, 0.802395209581, 0.802395209581]  \n",
       "5    [0.802395209581, 0.802395209581, 0.802395209581]  \n",
       "6    [0.802395209581, 0.802395209581, 0.802395209581]  \n",
       "7    [0.802395209581, 0.802395209581, 0.802395209581]  \n",
       "8    [0.802395209581, 0.802395209581, 0.802395209581]  \n",
       "9    [0.802395209581, 0.802395209581, 0.802395209581]  \n",
       "10   [0.802395209581, 0.802395209581, 0.802395209581]  \n",
       "11   [0.802395209581, 0.802395209581, 0.802395209581]  \n",
       "12   [0.802395209581, 0.802395209581, 0.802395209581]  \n",
       "13   [0.802395209581, 0.802395209581, 0.802395209581]  \n",
       "14   [0.802395209581, 0.802395209581, 0.802395209581]  \n",
       "15   [0.802395209581, 0.802395209581, 0.802395209581]  \n",
       "16   [0.802395209581, 0.802395209581, 0.802395209581]  \n",
       "17   [0.802395209581, 0.802395209581, 0.802395209581]  \n",
       "18   [0.802395209581, 0.802395209581, 0.802395209581]  \n",
       "19   [0.802395209581, 0.802395209581, 0.802395209581]  \n",
       "20   [0.802395209581, 0.802395209581, 0.802395209581]  \n",
       "21   [0.802395209581, 0.802395209581, 0.802395209581]  \n",
       "22   [0.802395209581, 0.802395209581, 0.802395209581]  \n",
       "23   [0.802395209581, 0.802395209581, 0.802395209581]  \n",
       "24   [0.802395209581, 0.802395209581, 0.802395209581]  \n",
       "25   [0.802395209581, 0.802395209581, 0.802395209581]  \n",
       "26   [0.802395209581, 0.802395209581, 0.802395209581]  \n",
       "27   [0.802395209581, 0.802395209581, 0.802395209581]  \n",
       "28   [0.802395209581, 0.802395209581, 0.802395209581]  \n",
       "29   [0.802395209581, 0.802395209581, 0.802395209581]  \n",
       "..                                                ...  \n",
       "139  [0.802395209581, 0.802395209581, 0.802395209581]  \n",
       "140  [0.802395209581, 0.802395209581, 0.802395209581]  \n",
       "141  [0.802395209581, 0.802395209581, 0.802395209581]  \n",
       "142  [0.802395209581, 0.802395209581, 0.802395209581]  \n",
       "143  [0.802547770701, 0.781456953642, 0.807947019868]  \n",
       "144  [0.774647887324, 0.765957446809, 0.794871794872]  \n",
       "145  [0.791044776119, 0.707692307692, 0.746268656716]  \n",
       "146  [0.748091603053, 0.677419354839, 0.805555555556]  \n",
       "147        [0.712121212121, 0.703125, 0.788321167883]  \n",
       "148            [0.692307692308, 0.650793650794, 0.75]  \n",
       "149  [0.666666666667, 0.661417322835, 0.729927007299]  \n",
       "150  [0.732824427481, 0.634920634921, 0.744525547445]  \n",
       "151  [0.787096774194, 0.789808917197, 0.805031446541]  \n",
       "152  [0.802395209581, 0.802395209581, 0.802395209581]  \n",
       "153  [0.802395209581, 0.802395209581, 0.802395209581]  \n",
       "154  [0.802395209581, 0.802395209581, 0.802395209581]  \n",
       "155  [0.802395209581, 0.802395209581, 0.802395209581]  \n",
       "156            [0.802547770701, 0.75, 0.791946308725]  \n",
       "157             [0.8, 0.687022900763, 0.782051282051]  \n",
       "158   [0.742424242424, 0.68253968254, 0.755555555556]  \n",
       "159             [0.692307692308, 0.692913385827, 0.8]  \n",
       "160        [0.712121212121, 0.703125, 0.788321167883]  \n",
       "161            [0.692307692308, 0.650793650794, 0.75]  \n",
       "162  [0.666666666667, 0.661417322835, 0.729927007299]  \n",
       "163  [0.732824427481, 0.634920634921, 0.744525547445]  \n",
       "164  [0.787096774194, 0.789808917197, 0.805031446541]  \n",
       "165  [0.802395209581, 0.802395209581, 0.802395209581]  \n",
       "166  [0.802395209581, 0.802395209581, 0.802395209581]  \n",
       "167  [0.802395209581, 0.802395209581, 0.802395209581]  \n",
       "168  [0.802395209581, 0.802395209581, 0.802395209581]  \n",
       "\n",
       "[169 rows x 3 columns]"
      ]
     },
     "metadata": {},
     "output_type": "display_data"
    }
   ],
   "source": [
    "from IPython.display import  display\n",
    "d = display(pd.DataFrame(grid_obj.grid_scores_))"
   ]
  },
  {
   "cell_type": "code",
   "execution_count": 98,
   "metadata": {
    "collapsed": false
   },
   "outputs": [],
   "source": [
    "xticks= parameter['gamma']\n",
    "yticks=parameter['C']"
   ]
  },
  {
   "cell_type": "code",
   "execution_count": 93,
   "metadata": {
    "collapsed": false
   },
   "outputs": [
    {
     "data": {
      "text/plain": [
       "numpy.ndarray"
      ]
     },
     "execution_count": 93,
     "metadata": {},
     "output_type": "execute_result"
    }
   ],
   "source": [
    "type(xticks)"
   ]
  },
  {
   "cell_type": "code",
   "execution_count": 120,
   "metadata": {
    "collapsed": false,
    "scrolled": false
   },
   "outputs": [
    {
     "data": {
      "image/png": "[encoded data removed]",
      "text/plain": [
       "<matplotlib.figure.Figure at 0x1254bd610>"
      ]
     },
     "metadata": {},
     "output_type": "display_data"
    }
   ],
   "source": [
    "import matplotlib.pyplot as plt\n",
    "%matplotlib inline\n",
    "from matplotlib import colors\n",
    "from matplotlib.colors import ListedColormap\n",
    "\n",
    "ddl_heat = ['#DBDBDB','#DCD5CC','#DCCEBE','#DDC8AF','#DEC2A0','#DEBB91',\\\n",
    "            '#DFB583','#DFAE74','#E0A865','#E1A256','#E19B48','#E29539']\n",
    "ddlheatmap = colors.ListedColormap(ddl_heat)\n",
    "\n",
    "scores = [x[1] for x in grid_obj.grid_scores_]\n",
    "scores = np.array(scores).reshape(len(C_range), len(gamma_range))\n",
    "\n",
    "plt.figure(figsize=(8, 6))\n",
    "plt.subplots_adjust(left=.2, right=0.95, bottom=0.15, top=0.95)\n",
    "plt.imshow(scores, interpolation='nearest', cmap=ddlheatmap)\n",
    "plt.xlabel('gamma')\n",
    "plt.ylabel('C')\n",
    "plt.colorbar()\n",
    "plt.xticks(np.arange(len(gamma_range)), gamma_range, rotation=45)\n",
    "plt.yticks(np.arange(len(C_range)), C_range)\n",
    "plt.title(\"The best parameters are {} with a score of {:0.2f}.\".format(grid_obj.best_params_, grid_obj.best_score_))\n",
    "    \n",
    "plt.show()"
   ]
  },
  {
   "cell_type": "code",
   "execution_count": 123,
   "metadata": {
    "collapsed": false,
    "scrolled": true
   },
   "outputs": [
    {
     "data": {
      "text/plain": [
       "<matplotlib.text.Text at 0x1250aeb90>"
      ]
     },
     "execution_count": 123,
     "metadata": {},
     "output_type": "execute_result"
    },
    {
     "data": {
      "image/png": "[encoded data removed]",
      "text/plain": [
       "<matplotlib.figure.Figure at 0x12673c190>"
      ]
     },
     "metadata": {},
     "output_type": "display_data"
    }
   ],
   "source": [
    "sns.heatmap(scores, fmt='.1f', annot=True, xticklabels=xticks, yticklabels=yticks, square=True)\n",
    "plt.xlabel('gamma')\n",
    "plt.ylabel('C')\n",
    "plt.title(\"The best parameters are {} with a score of {:0.2f}.\".format(grid_obj.best_params_, grid_obj.best_score_))"
   ]
  },
  {
   "cell_type": "markdown",
   "metadata": {},
   "source": [
    "> **Note**: Once you have completed all of the code implementations and successfully answered each question above, you may finalize your work by exporting the iPython Notebook as an HTML document. You can do this by using the menu above and navigating to  \n",
    "**File -> Download as -> HTML (.html)**. Include the finished document along with this notebook as your submission."
   ]
  },
  {
   "cell_type": "code",
   "execution_count": null,
   "metadata": {
    "collapsed": true
   },
   "outputs": [],
   "source": []
  }
 ],
 "metadata": {
  "kernelspec": {
   "display_name": "Python 2",
   "language": "python",
   "name": "python2"
  },
  "language_info": {
   "codemirror_mode": {
    "name": "ipython",
    "version": 2
   },
   "file_extension": ".py",
   "mimetype": "text/x-python",
   "name": "python",
   "nbconvert_exporter": "python",
   "pygments_lexer": "ipython2",
   "version": "2.7.11"
  }
 },
 "nbformat": 4,
 "nbformat_minor": 0
}
